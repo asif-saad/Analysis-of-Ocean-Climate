{
 "cells": [
  {
   "cell_type": "code",
   "execution_count": 1,
   "id": "3c475fd9",
   "metadata": {},
   "outputs": [],
   "source": [
    "import pandas as pd"
   ]
  },
  {
   "cell_type": "code",
   "execution_count": 13,
   "id": "1a3f4b04",
   "metadata": {},
   "outputs": [],
   "source": [
    "array = ['1901378QC.csv', '1901379QC.csv','1902303QC.csv','1902304QC.csv','1902380QC.csv','1902381QC.csv',\n",
    "        '1902382QC.csv','1902383QC.csv','1902384QC.csv','1902385QC.csv','4903273QC.csv','4903274QC.csv',\n",
    "        '4903365QC.csv']\n",
    "sizeArray= []"
   ]
  },
  {
   "cell_type": "code",
   "execution_count": 3,
   "id": "88291818",
   "metadata": {},
   "outputs": [
    {
     "data": {
      "text/plain": [
       "13"
      ]
     },
     "execution_count": 3,
     "metadata": {},
     "output_type": "execute_result"
    }
   ],
   "source": [
    "len(array)"
   ]
  },
  {
   "cell_type": "code",
   "execution_count": 14,
   "id": "f0232473",
   "metadata": {},
   "outputs": [],
   "source": [
    "for i in array:\n",
    "    data=pd.read_csv(i,low_memory=False)\n",
    "    sizeArray.append(data.shape[1])\n",
    "\n",
    "    "
   ]
  },
  {
   "cell_type": "code",
   "execution_count": 27,
   "id": "9b474511",
   "metadata": {},
   "outputs": [
    {
     "name": "stdout",
     "output_type": "stream",
     "text": [
      "inconsistency! for index number:  9\n",
      "45  and  53\n",
      "inconsistency! for index number:  10\n",
      "53  and  45\n"
     ]
    }
   ],
   "source": [
    "for i in range(len(sizeArray)-1):\n",
    "    if sizeArray[i]==sizeArray[i+1]:\n",
    "        continue\n",
    "    else:\n",
    "        print(\"inconsistency! for index number: \",i)\n",
    "        print(sizeArray[i],\" and \",sizeArray[i+1])\n",
    "    "
   ]
  },
  {
   "cell_type": "code",
   "execution_count": 22,
   "id": "c3b61316",
   "metadata": {},
   "outputs": [
    {
     "data": {
      "text/plain": [
       "(6633, 45)"
      ]
     },
     "execution_count": 22,
     "metadata": {},
     "output_type": "execute_result"
    }
   ],
   "source": [
    "pd.read_csv('1902384QC.csv').shape"
   ]
  },
  {
   "cell_type": "code",
   "execution_count": 23,
   "id": "b9cb4a9f",
   "metadata": {},
   "outputs": [
    {
     "data": {
      "text/plain": [
       "(6115, 45)"
      ]
     },
     "execution_count": 23,
     "metadata": {},
     "output_type": "execute_result"
    }
   ],
   "source": [
    "pd.read_csv('1902385QC.csv').shape"
   ]
  },
  {
   "cell_type": "code",
   "execution_count": 28,
   "id": "fa05dc56",
   "metadata": {},
   "outputs": [
    {
     "data": {
      "text/plain": [
       "(6115, 45)"
      ]
     },
     "execution_count": 28,
     "metadata": {},
     "output_type": "execute_result"
    }
   ],
   "source": [
    "pd.read_csv('1902383QC.csv').shape"
   ]
  },
  {
   "cell_type": "code",
   "execution_count": 29,
   "id": "b04ea18c",
   "metadata": {
    "collapsed": true
   },
   "outputs": [
    {
     "name": "stdout",
     "output_type": "stream",
     "text": [
      "45\n",
      "45\n",
      "45\n",
      "45\n",
      "45\n",
      "45\n",
      "45\n",
      "45\n",
      "45\n",
      "45\n",
      "53\n",
      "45\n",
      "45\n",
      "45\n"
     ]
    }
   ],
   "source": [
    "for i in sizeArray:\n",
    "    print(i)"
   ]
  },
  {
   "cell_type": "code",
   "execution_count": 30,
   "id": "285c4b92",
   "metadata": {},
   "outputs": [
    {
     "name": "stderr",
     "output_type": "stream",
     "text": [
      "C:\\Users\\asifs\\AppData\\Local\\Temp\\ipykernel_11284\\3581725615.py:1: DtypeWarning: Columns (6,7,9,11,13,15,17,19,21,23,25,27,29,31,33,35,37,39,41,43,45,47,49,51,53) have mixed types. Specify dtype option on import or set low_memory=False.\n",
      "  pd.read_csv('4903026QC.csv').shape\n"
     ]
    },
    {
     "data": {
      "text/plain": [
       "(95908, 53)"
      ]
     },
     "execution_count": 30,
     "metadata": {},
     "output_type": "execute_result"
    }
   ],
   "source": [
    "pd.read_csv('4903026QC.csv').shape"
   ]
  },
  {
   "cell_type": "code",
   "execution_count": 33,
   "id": "9862fe36",
   "metadata": {},
   "outputs": [
    {
     "name": "stderr",
     "output_type": "stream",
     "text": [
      "C:\\Users\\asifs\\AppData\\Local\\Temp\\ipykernel_3068\\36073274.py:1: DtypeWarning: Columns (6,7,9,11,13,15,17,19,21,23,25,27,29,31,33,35,37,39,41,43,45,47,49,51,53) have mixed types. Specify dtype option on import or set low_memory=False.\n",
      "  data=pd.read_csv('4903026QC.csv')\n"
     ]
    }
   ],
   "source": [
    "data=pd.read_csv('4903026QC.csv')"
   ]
  },
  {
   "cell_type": "code",
   "execution_count": 34,
   "id": "87e081cb",
   "metadata": {},
   "outputs": [
    {
     "data": {
      "text/plain": [
       "Index(['FloatID', 'mbariID', 'region', 'Station', 'Type', 'time', 'longitude',\n",
       "       'latitude', 'latitude_QF', 'pressure', 'pressure_QF', 'temperature',\n",
       "       'temperature_QF', 'salinity', 'salinity_QF', 'sigma_theta',\n",
       "       'sigma_theta_QF', 'depth', 'depth_QF', 'oxygen', 'oxygen_QF',\n",
       "       'oxygen saturation', 'oxygen saturation_QF', 'nitrate', 'nitrate_QF',\n",
       "       'chl_a', 'chl_a_QF', 'b_bp700', 'b_bp700_QF', 'POC', 'POC_QF',\n",
       "       'pH_insitu', 'pH_insitu_QF', 'pH_25C', 'pH_25C_QF', 'TALK', 'TALK_QF',\n",
       "       'DIC', 'DIC_QF', 'pCO2', 'pCO2_QF', 'CDOM', 'CDOM_QF',\n",
       "       'DOWN_IRRAD380.W.m.2.nm.', 'DOWN_IRRAD380.W.m.2.nm._QF',\n",
       "       'DOWN_IRRAD412.W.m.2.nm.', 'DOWN_IRRAD412.W.m.2.nm._QF',\n",
       "       'DOWN_IRRAD490.W.m.2.nm.', 'DOWN_IRRAD490.W.m.2.nm._QF',\n",
       "       'DOWNWELL_PAR.Âµmol.Quanta.m.2.sec.',\n",
       "       'DOWNWELL_PAR.Âµmol.Quanta.m.2.sec._QF', 'b_bp532', 'b_bp532_QF'],\n",
       "      dtype='object')"
      ]
     },
     "execution_count": 34,
     "metadata": {},
     "output_type": "execute_result"
    }
   ],
   "source": [
    "data.columns"
   ]
  },
  {
   "cell_type": "code",
   "execution_count": 35,
   "id": "11a1d1af",
   "metadata": {},
   "outputs": [
    {
     "name": "stderr",
     "output_type": "stream",
     "text": [
      "C:\\Users\\asifs\\AppData\\Local\\Temp\\ipykernel_3068\\292792698.py:2: DtypeWarning: Columns (6,7,9,11,13,15,17,19,21,23,25,27,29,31,33,35,37,39,41,43,45,47,49,51,53) have mixed types. Specify dtype option on import or set low_memory=False.\n",
      "  colErr= pd.read_csv('4903026QC.csv').columns\n"
     ]
    }
   ],
   "source": [
    "colNorm= pd.read_csv('1902383QC.csv').columns\n",
    "colErr= pd.read_csv('4903026QC.csv').columns"
   ]
  },
  {
   "cell_type": "code",
   "execution_count": 60,
   "id": "1e9b5a65",
   "metadata": {
    "scrolled": true
   },
   "outputs": [
    {
     "name": "stdout",
     "output_type": "stream",
     "text": [
      "FloatID  -->  FloatID\n",
      "mbariID  -->  mbariID\n",
      "region  -->  region\n",
      "Station  -->  Station\n",
      "Type  -->  Type\n",
      "time  -->  time\n",
      "longitude  -->  longitude\n",
      "latitude  -->  latitude\n",
      "latitude_QF  -->  latitude_QF\n",
      "pressure  -->  pressure\n",
      "pressure_QF  -->  pressure_QF\n",
      "temperature  -->  temperature\n",
      "temperature_QF  -->  temperature_QF\n",
      "salinity  -->  salinity\n",
      "salinity_QF  -->  salinity_QF\n",
      "sigma_theta  -->  sigma_theta\n",
      "sigma_theta_QF  -->  sigma_theta_QF\n",
      "depth  -->  depth\n",
      "depth_QF  -->  depth_QF\n",
      "oxygen  -->  oxygen\n",
      "oxygen_QF  -->  oxygen_QF\n",
      "oxygen saturation  -->  oxygen saturation\n",
      "oxygen saturation_QF  -->  oxygen saturation_QF\n",
      "nitrate  -->  nitrate\n",
      "nitrate_QF  -->  nitrate_QF\n",
      "chl_a  -->  chl_a\n",
      "chl_a_QF  -->  chl_a_QF\n",
      "b_bp700  -->  b_bp700\n",
      "b_bp700_QF  -->  b_bp700_QF\n",
      "POC  -->  POC\n",
      "POC_QF  -->  POC_QF\n",
      "pH_insitu  -->  pH_insitu\n",
      "pH_insitu_QF  -->  pH_insitu_QF\n",
      "pH_25C  -->  pH_25C\n",
      "pH_25C_QF  -->  pH_25C_QF\n",
      "TALK  -->  TALK\n",
      "TALK_QF  -->  TALK_QF\n",
      "DIC  -->  DIC\n",
      "DIC_QF  -->  DIC_QF\n",
      "pCO2  -->  pCO2\n",
      "pCO2_QF  -->  pCO2_QF\n",
      "some error!!! for index,  41\n",
      "some error!!! for index,  42\n",
      "some error!!! for index,  43\n",
      "some error!!! for index,  44\n"
     ]
    },
    {
     "ename": "IndexError",
     "evalue": "index 45 is out of bounds for axis 0 with size 45",
     "output_type": "error",
     "traceback": [
      "\u001b[1;31m---------------------------------------------------------------------------\u001b[0m",
      "\u001b[1;31mIndexError\u001b[0m                                Traceback (most recent call last)",
      "Input \u001b[1;32mIn [60]\u001b[0m, in \u001b[0;36m<cell line: 1>\u001b[1;34m()\u001b[0m\n\u001b[0;32m      1\u001b[0m \u001b[38;5;28;01mfor\u001b[39;00m i \u001b[38;5;129;01min\u001b[39;00m \u001b[38;5;28mrange\u001b[39m(\u001b[38;5;28mlen\u001b[39m(colErr)):\n\u001b[1;32m----> 2\u001b[0m     \u001b[38;5;28;01mif\u001b[39;00m(\u001b[43mcolNorm\u001b[49m\u001b[43m[\u001b[49m\u001b[43mi\u001b[49m\u001b[43m]\u001b[49m\u001b[38;5;241m==\u001b[39mcolErr[i]):\n\u001b[0;32m      3\u001b[0m         \u001b[38;5;28mprint\u001b[39m(colNorm[i],\u001b[38;5;124m\"\u001b[39m\u001b[38;5;124m --> \u001b[39m\u001b[38;5;124m\"\u001b[39m,colErr[i])\n\u001b[0;32m      4\u001b[0m     \u001b[38;5;28;01melse\u001b[39;00m:\n",
      "File \u001b[1;32mF:\\source\\Anaconda\\lib\\site-packages\\pandas\\core\\indexes\\base.py:5039\u001b[0m, in \u001b[0;36mIndex.__getitem__\u001b[1;34m(self, key)\u001b[0m\n\u001b[0;32m   5036\u001b[0m \u001b[38;5;28;01mif\u001b[39;00m is_integer(key) \u001b[38;5;129;01mor\u001b[39;00m is_float(key):\n\u001b[0;32m   5037\u001b[0m     \u001b[38;5;66;03m# GH#44051 exclude bool, which would return a 2d ndarray\u001b[39;00m\n\u001b[0;32m   5038\u001b[0m     key \u001b[38;5;241m=\u001b[39m com\u001b[38;5;241m.\u001b[39mcast_scalar_indexer(key, warn_float\u001b[38;5;241m=\u001b[39m\u001b[38;5;28;01mTrue\u001b[39;00m)\n\u001b[1;32m-> 5039\u001b[0m     \u001b[38;5;28;01mreturn\u001b[39;00m \u001b[43mgetitem\u001b[49m\u001b[43m(\u001b[49m\u001b[43mkey\u001b[49m\u001b[43m)\u001b[49m\n\u001b[0;32m   5041\u001b[0m \u001b[38;5;28;01mif\u001b[39;00m \u001b[38;5;28misinstance\u001b[39m(key, \u001b[38;5;28mslice\u001b[39m):\n\u001b[0;32m   5042\u001b[0m     \u001b[38;5;66;03m# This case is separated from the conditional above to avoid\u001b[39;00m\n\u001b[0;32m   5043\u001b[0m     \u001b[38;5;66;03m# pessimization com.is_bool_indexer and ndim checks.\u001b[39;00m\n\u001b[0;32m   5044\u001b[0m     result \u001b[38;5;241m=\u001b[39m getitem(key)\n",
      "\u001b[1;31mIndexError\u001b[0m: index 45 is out of bounds for axis 0 with size 45"
     ]
    }
   ],
   "source": [
    "for i in range(len(colErr)):\n",
    "    if(colNorm[i]==colErr[i]):\n",
    "        print(colNorm[i],\" --> \",colErr[i])\n",
    "    else:\n",
    "        print(\"some error!!! for index, \",i)"
   ]
  },
  {
   "cell_type": "code",
   "execution_count": 57,
   "id": "8f73bc0e",
   "metadata": {},
   "outputs": [
    {
     "name": "stdout",
     "output_type": "stream",
     "text": [
      "index:  0  column:  FloatID\n",
      "index:  1  column:  mbariID\n",
      "index:  2  column:  region\n",
      "index:  3  column:  Station\n",
      "index:  4  column:  Type\n",
      "index:  5  column:  time\n",
      "index:  6  column:  longitude\n",
      "index:  7  column:  latitude\n",
      "index:  8  column:  latitude_QF\n",
      "index:  9  column:  pressure\n",
      "index:  10  column:  pressure_QF\n",
      "index:  11  column:  temperature\n",
      "index:  12  column:  temperature_QF\n",
      "index:  13  column:  salinity\n",
      "index:  14  column:  salinity_QF\n",
      "index:  15  column:  sigma_theta\n",
      "index:  16  column:  sigma_theta_QF\n",
      "index:  17  column:  depth\n",
      "index:  18  column:  depth_QF\n",
      "index:  19  column:  oxygen\n",
      "index:  20  column:  oxygen_QF\n",
      "index:  21  column:  oxygen saturation\n",
      "index:  22  column:  oxygen saturation_QF\n",
      "index:  23  column:  nitrate\n",
      "index:  24  column:  nitrate_QF\n",
      "index:  25  column:  chl_a\n",
      "index:  26  column:  chl_a_QF\n",
      "index:  27  column:  b_bp700\n",
      "index:  28  column:  b_bp700_QF\n",
      "index:  29  column:  POC\n",
      "index:  30  column:  POC_QF\n",
      "index:  31  column:  pH_insitu\n",
      "index:  32  column:  pH_insitu_QF\n",
      "index:  33  column:  pH_25C\n",
      "index:  34  column:  pH_25C_QF\n",
      "index:  35  column:  TALK\n",
      "index:  36  column:  TALK_QF\n",
      "index:  37  column:  DIC\n",
      "index:  38  column:  DIC_QF\n",
      "index:  39  column:  pCO2\n",
      "index:  40  column:  pCO2_QF\n",
      "index:  41  column:  CDOM\n",
      "index:  42  column:  CDOM_QF\n",
      "index:  43  column:  DOWN_IRRAD380.W.m.2.nm.\n",
      "index:  44  column:  DOWN_IRRAD380.W.m.2.nm._QF\n",
      "index:  45  column:  DOWN_IRRAD412.W.m.2.nm.\n",
      "index:  46  column:  DOWN_IRRAD412.W.m.2.nm._QF\n",
      "index:  47  column:  DOWN_IRRAD490.W.m.2.nm.\n",
      "index:  48  column:  DOWN_IRRAD490.W.m.2.nm._QF\n",
      "index:  49  column:  DOWNWELL_PAR.Âµmol.Quanta.m.2.sec.\n",
      "index:  50  column:  DOWNWELL_PAR.Âµmol.Quanta.m.2.sec._QF\n",
      "index:  51  column:  b_bp532\n",
      "index:  52  column:  b_bp532_QF\n"
     ]
    }
   ],
   "source": [
    "for i in range(len(colErr)):\n",
    "    print(\"index: \",i,\" column: \",colErr[i])"
   ]
  },
  {
   "cell_type": "code",
   "execution_count": 58,
   "id": "82fcf244",
   "metadata": {},
   "outputs": [
    {
     "name": "stdout",
     "output_type": "stream",
     "text": [
      "index:  0  column:  FloatID\n",
      "index:  1  column:  mbariID\n",
      "index:  2  column:  region\n",
      "index:  3  column:  Station\n",
      "index:  4  column:  Type\n",
      "index:  5  column:  time\n",
      "index:  6  column:  longitude\n",
      "index:  7  column:  latitude\n",
      "index:  8  column:  latitude_QF\n",
      "index:  9  column:  pressure\n",
      "index:  10  column:  pressure_QF\n",
      "index:  11  column:  temperature\n",
      "index:  12  column:  temperature_QF\n",
      "index:  13  column:  salinity\n",
      "index:  14  column:  salinity_QF\n",
      "index:  15  column:  sigma_theta\n",
      "index:  16  column:  sigma_theta_QF\n",
      "index:  17  column:  depth\n",
      "index:  18  column:  depth_QF\n",
      "index:  19  column:  oxygen\n",
      "index:  20  column:  oxygen_QF\n",
      "index:  21  column:  oxygen saturation\n",
      "index:  22  column:  oxygen saturation_QF\n",
      "index:  23  column:  nitrate\n",
      "index:  24  column:  nitrate_QF\n",
      "index:  25  column:  chl_a\n",
      "index:  26  column:  chl_a_QF\n",
      "index:  27  column:  b_bp700\n",
      "index:  28  column:  b_bp700_QF\n",
      "index:  29  column:  POC\n",
      "index:  30  column:  POC_QF\n",
      "index:  31  column:  pH_insitu\n",
      "index:  32  column:  pH_insitu_QF\n",
      "index:  33  column:  pH_25C\n",
      "index:  34  column:  pH_25C_QF\n",
      "index:  35  column:  TALK\n",
      "index:  36  column:  TALK_QF\n",
      "index:  37  column:  DIC\n",
      "index:  38  column:  DIC_QF\n",
      "index:  39  column:  pCO2\n",
      "index:  40  column:  pCO2_QF\n",
      "index:  41  column:  b_bp532\n",
      "index:  42  column:  b_bp532_QF\n",
      "index:  43  column:  CDOM\n",
      "index:  44  column:  CDOM_QF\n"
     ]
    }
   ],
   "source": [
    "for i in range(len(colNorm)):\n",
    "    print(\"index: \",i,\" column: \",colNorm[i])"
   ]
  },
  {
   "cell_type": "code",
   "execution_count": 61,
   "id": "6b019d03",
   "metadata": {
    "collapsed": true
   },
   "outputs": [
    {
     "name": "stdout",
     "output_type": "stream",
     "text": [
      "index:  0  column:  FloatID  and  FloatID\n",
      "index:  1  column:  mbariID  and  mbariID\n",
      "index:  2  column:  region  and  region\n",
      "index:  3  column:  Station  and  Station\n",
      "index:  4  column:  Type  and  Type\n",
      "index:  5  column:  time  and  time\n",
      "index:  6  column:  longitude  and  longitude\n",
      "index:  7  column:  latitude  and  latitude\n",
      "index:  8  column:  latitude_QF  and  latitude_QF\n",
      "index:  9  column:  pressure  and  pressure\n",
      "index:  10  column:  pressure_QF  and  pressure_QF\n",
      "index:  11  column:  temperature  and  temperature\n",
      "index:  12  column:  temperature_QF  and  temperature_QF\n",
      "index:  13  column:  salinity  and  salinity\n",
      "index:  14  column:  salinity_QF  and  salinity_QF\n",
      "index:  15  column:  sigma_theta  and  sigma_theta\n",
      "index:  16  column:  sigma_theta_QF  and  sigma_theta_QF\n",
      "index:  17  column:  depth  and  depth\n",
      "index:  18  column:  depth_QF  and  depth_QF\n",
      "index:  19  column:  oxygen  and  oxygen\n",
      "index:  20  column:  oxygen_QF  and  oxygen_QF\n",
      "index:  21  column:  oxygen saturation  and  oxygen saturation\n",
      "index:  22  column:  oxygen saturation_QF  and  oxygen saturation_QF\n",
      "index:  23  column:  nitrate  and  nitrate\n",
      "index:  24  column:  nitrate_QF  and  nitrate_QF\n",
      "index:  25  column:  chl_a  and  chl_a\n",
      "index:  26  column:  chl_a_QF  and  chl_a_QF\n",
      "index:  27  column:  b_bp700  and  b_bp700\n",
      "index:  28  column:  b_bp700_QF  and  b_bp700_QF\n",
      "index:  29  column:  POC  and  POC\n",
      "index:  30  column:  POC_QF  and  POC_QF\n",
      "index:  31  column:  pH_insitu  and  pH_insitu\n",
      "index:  32  column:  pH_insitu_QF  and  pH_insitu_QF\n",
      "index:  33  column:  pH_25C  and  pH_25C\n",
      "index:  34  column:  pH_25C_QF  and  pH_25C_QF\n",
      "index:  35  column:  TALK  and  TALK\n",
      "index:  36  column:  TALK_QF  and  TALK_QF\n",
      "index:  37  column:  DIC  and  DIC\n",
      "index:  38  column:  DIC_QF  and  DIC_QF\n",
      "index:  39  column:  pCO2  and  pCO2\n",
      "index:  40  column:  pCO2_QF  and  pCO2_QF\n",
      "index:  41  column:  CDOM  and  b_bp532\n",
      "index:  42  column:  CDOM_QF  and  b_bp532_QF\n",
      "index:  43  column:  DOWN_IRRAD380.W.m.2.nm.  and  CDOM\n",
      "index:  44  column:  DOWN_IRRAD380.W.m.2.nm._QF  and  CDOM_QF\n"
     ]
    },
    {
     "ename": "IndexError",
     "evalue": "index 45 is out of bounds for axis 0 with size 45",
     "output_type": "error",
     "traceback": [
      "\u001b[1;31m---------------------------------------------------------------------------\u001b[0m",
      "\u001b[1;31mIndexError\u001b[0m                                Traceback (most recent call last)",
      "Input \u001b[1;32mIn [61]\u001b[0m, in \u001b[0;36m<cell line: 1>\u001b[1;34m()\u001b[0m\n\u001b[0;32m      1\u001b[0m \u001b[38;5;28;01mfor\u001b[39;00m i \u001b[38;5;129;01min\u001b[39;00m \u001b[38;5;28mrange\u001b[39m(\u001b[38;5;28mlen\u001b[39m(colErr)):\n\u001b[1;32m----> 2\u001b[0m     \u001b[38;5;28mprint\u001b[39m(\u001b[38;5;124m\"\u001b[39m\u001b[38;5;124mindex: \u001b[39m\u001b[38;5;124m\"\u001b[39m,i,\u001b[38;5;124m\"\u001b[39m\u001b[38;5;124m column: \u001b[39m\u001b[38;5;124m\"\u001b[39m,colErr[i],\u001b[38;5;124m\"\u001b[39m\u001b[38;5;124m and \u001b[39m\u001b[38;5;124m\"\u001b[39m,\u001b[43mcolNorm\u001b[49m\u001b[43m[\u001b[49m\u001b[43mi\u001b[49m\u001b[43m]\u001b[49m)\n",
      "File \u001b[1;32mF:\\source\\Anaconda\\lib\\site-packages\\pandas\\core\\indexes\\base.py:5039\u001b[0m, in \u001b[0;36mIndex.__getitem__\u001b[1;34m(self, key)\u001b[0m\n\u001b[0;32m   5036\u001b[0m \u001b[38;5;28;01mif\u001b[39;00m is_integer(key) \u001b[38;5;129;01mor\u001b[39;00m is_float(key):\n\u001b[0;32m   5037\u001b[0m     \u001b[38;5;66;03m# GH#44051 exclude bool, which would return a 2d ndarray\u001b[39;00m\n\u001b[0;32m   5038\u001b[0m     key \u001b[38;5;241m=\u001b[39m com\u001b[38;5;241m.\u001b[39mcast_scalar_indexer(key, warn_float\u001b[38;5;241m=\u001b[39m\u001b[38;5;28;01mTrue\u001b[39;00m)\n\u001b[1;32m-> 5039\u001b[0m     \u001b[38;5;28;01mreturn\u001b[39;00m \u001b[43mgetitem\u001b[49m\u001b[43m(\u001b[49m\u001b[43mkey\u001b[49m\u001b[43m)\u001b[49m\n\u001b[0;32m   5041\u001b[0m \u001b[38;5;28;01mif\u001b[39;00m \u001b[38;5;28misinstance\u001b[39m(key, \u001b[38;5;28mslice\u001b[39m):\n\u001b[0;32m   5042\u001b[0m     \u001b[38;5;66;03m# This case is separated from the conditional above to avoid\u001b[39;00m\n\u001b[0;32m   5043\u001b[0m     \u001b[38;5;66;03m# pessimization com.is_bool_indexer and ndim checks.\u001b[39;00m\n\u001b[0;32m   5044\u001b[0m     result \u001b[38;5;241m=\u001b[39m getitem(key)\n",
      "\u001b[1;31mIndexError\u001b[0m: index 45 is out of bounds for axis 0 with size 45"
     ]
    }
   ],
   "source": [
    "for i in range(len(colErr)):\n",
    "    print(\"index: \",i,\" column: \",colErr[i],\" and \",colNorm[i])"
   ]
  },
  {
   "cell_type": "code",
   "execution_count": null,
   "id": "909c2754",
   "metadata": {},
   "outputs": [],
   "source": [
    "## need to rearrange columns and drop some of them from '4903026QC.csv'"
   ]
  },
  {
   "cell_type": "code",
   "execution_count": 53,
   "id": "3fd23e5a",
   "metadata": {},
   "outputs": [
    {
     "name": "stdout",
     "output_type": "stream",
     "text": [
      "Index(['FloatID', 'mbariID', 'region', 'Station', 'Type', 'time', 'longitude',\n",
      "       'latitude', 'latitude_QF', 'pressure', 'pressure_QF', 'temperature',\n",
      "       'temperature_QF', 'salinity', 'salinity_QF', 'sigma_theta',\n",
      "       'sigma_theta_QF', 'depth', 'depth_QF', 'oxygen', 'oxygen_QF',\n",
      "       'oxygen saturation', 'oxygen saturation_QF', 'nitrate', 'nitrate_QF',\n",
      "       'chl_a', 'chl_a_QF', 'b_bp700', 'b_bp700_QF', 'POC', 'POC_QF',\n",
      "       'pH_insitu', 'pH_insitu_QF', 'pH_25C', 'pH_25C_QF', 'TALK', 'TALK_QF',\n",
      "       'DIC', 'DIC_QF', 'pCO2', 'pCO2_QF', 'CDOM', 'CDOM_QF', 'b_bp532',\n",
      "       'b_bp532_QF'],\n",
      "      dtype='object')\n",
      "45\n"
     ]
    }
   ],
   "source": [
    "# droping unnecessary columns\n",
    "\n",
    "data=pd.read_csv('4903026QC.csv',low_memory=False)\n",
    "data=data.drop(data.columns[list(range(43,51))], axis=1)\n",
    "colMod=data.columns\n",
    "print(colMod)\n",
    "print(len(colMod))"
   ]
  },
  {
   "cell_type": "code",
   "execution_count": 54,
   "id": "dba7576f",
   "metadata": {
    "collapsed": true
   },
   "outputs": [
    {
     "name": "stdout",
     "output_type": "stream",
     "text": [
      "index:  0  column:  FloatID  and  FloatID\n",
      "index:  1  column:  mbariID  and  mbariID\n",
      "index:  2  column:  region  and  region\n",
      "index:  3  column:  Station  and  Station\n",
      "index:  4  column:  Type  and  Type\n",
      "index:  5  column:  time  and  time\n",
      "index:  6  column:  longitude  and  longitude\n",
      "index:  7  column:  latitude  and  latitude\n",
      "index:  8  column:  latitude_QF  and  latitude_QF\n",
      "index:  9  column:  pressure  and  pressure\n",
      "index:  10  column:  pressure_QF  and  pressure_QF\n",
      "index:  11  column:  temperature  and  temperature\n",
      "index:  12  column:  temperature_QF  and  temperature_QF\n",
      "index:  13  column:  salinity  and  salinity\n",
      "index:  14  column:  salinity_QF  and  salinity_QF\n",
      "index:  15  column:  sigma_theta  and  sigma_theta\n",
      "index:  16  column:  sigma_theta_QF  and  sigma_theta_QF\n",
      "index:  17  column:  depth  and  depth\n",
      "index:  18  column:  depth_QF  and  depth_QF\n",
      "index:  19  column:  oxygen  and  oxygen\n",
      "index:  20  column:  oxygen_QF  and  oxygen_QF\n",
      "index:  21  column:  oxygen saturation  and  oxygen saturation\n",
      "index:  22  column:  oxygen saturation_QF  and  oxygen saturation_QF\n",
      "index:  23  column:  nitrate  and  nitrate\n",
      "index:  24  column:  nitrate_QF  and  nitrate_QF\n",
      "index:  25  column:  chl_a  and  chl_a\n",
      "index:  26  column:  chl_a_QF  and  chl_a_QF\n",
      "index:  27  column:  b_bp700  and  b_bp700\n",
      "index:  28  column:  b_bp700_QF  and  b_bp700_QF\n",
      "index:  29  column:  POC  and  POC\n",
      "index:  30  column:  POC_QF  and  POC_QF\n",
      "index:  31  column:  pH_insitu  and  pH_insitu\n",
      "index:  32  column:  pH_insitu_QF  and  pH_insitu_QF\n",
      "index:  33  column:  pH_25C  and  pH_25C\n",
      "index:  34  column:  pH_25C_QF  and  pH_25C_QF\n",
      "index:  35  column:  TALK  and  TALK\n",
      "index:  36  column:  TALK_QF  and  TALK_QF\n",
      "index:  37  column:  DIC  and  DIC\n",
      "index:  38  column:  DIC_QF  and  DIC_QF\n",
      "index:  39  column:  pCO2  and  pCO2\n",
      "index:  40  column:  pCO2_QF  and  pCO2_QF\n",
      "index:  41  column:  CDOM  and  b_bp532\n",
      "index:  42  column:  CDOM_QF  and  b_bp532_QF\n",
      "index:  43  column:  b_bp532  and  CDOM\n",
      "index:  44  column:  b_bp532_QF  and  CDOM_QF\n"
     ]
    }
   ],
   "source": [
    "## showing the current order of the columns\n",
    "\n",
    "for i in range(len(colMod)):\n",
    "    print(\"index: \",i,\" column: \",colMod[i],\" and \",colNorm[i])"
   ]
  },
  {
   "cell_type": "code",
   "execution_count": 56,
   "id": "fb9a6156",
   "metadata": {},
   "outputs": [
    {
     "name": "stdout",
     "output_type": "stream",
     "text": [
      "Index(['FloatID', 'mbariID', 'region', 'Station', 'Type', 'time', 'longitude',\n",
      "       'latitude', 'latitude_QF', 'pressure', 'pressure_QF', 'temperature',\n",
      "       'temperature_QF', 'salinity', 'salinity_QF', 'sigma_theta',\n",
      "       'sigma_theta_QF', 'depth', 'depth_QF', 'oxygen', 'oxygen_QF',\n",
      "       'oxygen saturation', 'oxygen saturation_QF', 'nitrate', 'nitrate_QF',\n",
      "       'chl_a', 'chl_a_QF', 'b_bp700', 'b_bp700_QF', 'POC', 'POC_QF',\n",
      "       'pH_insitu', 'pH_insitu_QF', 'pH_25C', 'pH_25C_QF', 'TALK', 'TALK_QF',\n",
      "       'DIC', 'DIC_QF', 'pCO2', 'pCO2_QF', 'b_bp532', 'b_bp532_QF', 'CDOM',\n",
      "       'CDOM_QF'],\n",
      "      dtype='object')\n"
     ]
    }
   ],
   "source": [
    "## reorder columns\n",
    "data= data.iloc[:,[0, 1, 2, 3, 4, 5, 6, 7, 8, 9, 10, 11, 12, 13, 14, 15, 16, 17, 18, 19, 20, 21, 22, 23,\n",
    "                  24, 25, 26, 27, 28, 29, 30, 31, 32, 33, 34, 35, 36, 37, 38, 39, 40, 43, 44, 41, 42]]\n",
    "print(data.columns)"
   ]
  },
  {
   "cell_type": "code",
   "execution_count": 62,
   "id": "255ac162",
   "metadata": {},
   "outputs": [
    {
     "name": "stdout",
     "output_type": "stream",
     "text": [
      "everything in good order!!\n"
     ]
    }
   ],
   "source": [
    "colMod=data.columns\n",
    "flag=True\n",
    "for i in range(len(colMod)):\n",
    "    if(colMod[i]!=colNorm[i]):\n",
    "        flag=False\n",
    "        print(\"something wrong here:\")\n",
    "        print(\"index: \",i,\" column: \",colMod[i],\" and \",colNorm[i])\n",
    "        \n",
    "if(flag):\n",
    "    print(\"everything in good order!!\")"
   ]
  },
  {
   "cell_type": "code",
   "execution_count": null,
   "id": "6a96a0ff",
   "metadata": {},
   "outputs": [],
   "source": []
  },
  {
   "cell_type": "code",
   "execution_count": null,
   "id": "aea3dbd3",
   "metadata": {},
   "outputs": [],
   "source": []
  },
  {
   "cell_type": "code",
   "execution_count": null,
   "id": "f933c538",
   "metadata": {},
   "outputs": [],
   "source": []
  },
  {
   "cell_type": "code",
   "execution_count": null,
   "id": "badde1c4",
   "metadata": {},
   "outputs": [],
   "source": []
  },
  {
   "cell_type": "code",
   "execution_count": null,
   "id": "d30662c6",
   "metadata": {},
   "outputs": [],
   "source": []
  },
  {
   "cell_type": "code",
   "execution_count": null,
   "id": "96167e16",
   "metadata": {},
   "outputs": [],
   "source": []
  }
 ],
 "metadata": {
  "kernelspec": {
   "display_name": "Python 3 (ipykernel)",
   "language": "python",
   "name": "python3"
  },
  "language_info": {
   "codemirror_mode": {
    "name": "ipython",
    "version": 3
   },
   "file_extension": ".py",
   "mimetype": "text/x-python",
   "name": "python",
   "nbconvert_exporter": "python",
   "pygments_lexer": "ipython3",
   "version": "3.9.12"
  }
 },
 "nbformat": 4,
 "nbformat_minor": 5
}
