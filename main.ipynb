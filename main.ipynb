{
 "cells": [
  {
   "cell_type": "code",
   "execution_count": 42,
   "id": "d1f68477",
   "metadata": {},
   "outputs": [],
   "source": [
    "# importing all the essential libraries and modules\n",
    "\n",
    "import pandas as pd\n",
    "import seaborn as sns\n",
    "import matplotlib.pyplot as plt\n",
    "from sklearn import preprocessing\n",
    "from sklearn.model_selection import train_test_split\n",
    "from sklearn.pipeline import make_pipeline\n",
    "from sklearn.preprocessing import StandardScaler\n",
    "from sklearn.svm import SVC\n",
    "from sklearn.svm import SVR\n",
    "import numpy as np\n",
    "from sklearn.metrics import mean_squared_error\n",
    "from sklearn.metrics import r2_score\n",
    "import multiprocessing as mp\n",
    "import math"
   ]
  },
  {
   "cell_type": "code",
   "execution_count": 43,
   "id": "98bc5aba",
   "metadata": {},
   "outputs": [],
   "source": [
    "# reading the final dataset\n",
    "data=pd.read_csv('merged.csv',low_memory=False)"
   ]
  },
  {
   "cell_type": "code",
   "execution_count": 44,
   "id": "90c14bd8",
   "metadata": {},
   "outputs": [],
   "source": [
    "# data"
   ]
  },
  {
   "cell_type": "code",
   "execution_count": 45,
   "id": "4fd715cb",
   "metadata": {},
   "outputs": [],
   "source": [
    "# data.dtypes"
   ]
  },
  {
   "cell_type": "code",
   "execution_count": 46,
   "id": "f6e1bdc4",
   "metadata": {},
   "outputs": [],
   "source": [
    "# columns that are needed to be converted\n",
    "\n",
    "\n",
    "column_type=['Pressure_dbar',\n",
    "             'Temperature_Celcius',\n",
    "             'salinity_pss',\n",
    "             'Sigma_theta_kg_m_pow_minus_3',\n",
    "             'depth_m',\n",
    "             'oxygen_mu_molkg_pow_minus_1',\n",
    "             'oxygen_saturation_percentage',\n",
    "             'nitrate_mu_mol_kg_pow_minus_1',\n",
    "             'chl_a_mg_m_pow_minus_3',\n",
    "             'b_bp700_m_pow_minus_1',\n",
    "             'POC_milli_mol_m_pow_minus_3',\n",
    "             'pH_insitu_total','pH_25C_total',\n",
    "             'TALK_micro_mol_kg_pow_minus_1',\n",
    "             'DIC_micro_mol_kg_pow_minus_1',\n",
    "             'pCO2_micro_atm','b_bp532_m_pow_minus_1',\n",
    "             'CDOM_ppb']"
   ]
  },
  {
   "cell_type": "code",
   "execution_count": 47,
   "id": "7aa22e69",
   "metadata": {},
   "outputs": [],
   "source": [
    "# action for column conversion from object to float\n",
    "\n",
    "for col in column_type:\n",
    "    data[col]=data[col].astype(float)"
   ]
  },
  {
   "cell_type": "code",
   "execution_count": 48,
   "id": "c229e248",
   "metadata": {},
   "outputs": [],
   "source": [
    "# data.dtypes"
   ]
  },
  {
   "cell_type": "code",
   "execution_count": 49,
   "id": "ca9d1b76",
   "metadata": {},
   "outputs": [],
   "source": [
    "# finding null values in each columns\n",
    "\n",
    "# data.isna().sum()"
   ]
  },
  {
   "cell_type": "code",
   "execution_count": 50,
   "id": "3187a9fa",
   "metadata": {},
   "outputs": [],
   "source": [
    "# droppoing mbariID column as it contains only 1 value\n",
    "\n",
    "data.drop(['mbariID'],axis=1,inplace=True)"
   ]
  },
  {
   "cell_type": "code",
   "execution_count": 51,
   "id": "bcf26987",
   "metadata": {},
   "outputs": [],
   "source": [
    "# data.region.unique()"
   ]
  },
  {
   "cell_type": "code",
   "execution_count": 52,
   "id": "b7bab3fa",
   "metadata": {},
   "outputs": [],
   "source": [
    "# region column has been done label encoding\n",
    "\n",
    "# might change to another feature encoding method if required\n",
    "# label_encoder = preprocessing.LabelEncoder()\n",
    "# data['region']= label_encoder.fit_transform(data['region'])\n",
    "  "
   ]
  },
  {
   "cell_type": "code",
   "execution_count": 53,
   "id": "09765d48",
   "metadata": {},
   "outputs": [],
   "source": [
    "# only has one type of value, need to be dropped\n",
    "\n",
    "# data.Type.unique()"
   ]
  },
  {
   "cell_type": "code",
   "execution_count": 54,
   "id": "c0419d3b",
   "metadata": {},
   "outputs": [],
   "source": [
    "data.drop(['Type',\n",
    "           'pressure_QF',\n",
    "           'temperature_QF',\n",
    "           'b_bp532_m_pow_minus_1',\n",
    "           'b_bp532_QF',\n",
    "          'oxygen_saturation_percentage'],axis=1,inplace=True)"
   ]
  },
  {
   "cell_type": "code",
   "execution_count": 55,
   "id": "aae292cf",
   "metadata": {},
   "outputs": [],
   "source": [
    "## time need to be converted\n",
    "\n",
    "\n",
    "# data.time.unique()"
   ]
  },
  {
   "cell_type": "code",
   "execution_count": null,
   "id": "b0e5d979",
   "metadata": {},
   "outputs": [],
   "source": []
  },
  {
   "cell_type": "code",
   "execution_count": null,
   "id": "747c4a27",
   "metadata": {},
   "outputs": [],
   "source": []
  },
  {
   "cell_type": "code",
   "execution_count": 56,
   "id": "58c4eeb3",
   "metadata": {},
   "outputs": [],
   "source": [
    "# finding the min and max value for all columns\n",
    "\n",
    "# for col in data.columns:\n",
    "#     print(\"min value for \",col,\" column: \",data[col].unique().min())\n",
    "#     print(\"max value for \",col,\" column: \",data[col].unique().max())"
   ]
  },
  {
   "cell_type": "code",
   "execution_count": null,
   "id": "8bc1e053",
   "metadata": {
    "scrolled": true
   },
   "outputs": [],
   "source": []
  },
  {
   "cell_type": "code",
   "execution_count": null,
   "id": "cd335cc1",
   "metadata": {},
   "outputs": [],
   "source": []
  },
  {
   "cell_type": "code",
   "execution_count": 57,
   "id": "212e4077",
   "metadata": {},
   "outputs": [],
   "source": [
    "#skewed column\n",
    "## (-10000000000.0, 109804)\n",
    "\n",
    "\n",
    "# l=data[\"chl_a_mg_m_pow_minus_3\"].value_counts()\n",
    "# l=l.sort_index()\n",
    "# print(\"length is: \",len(l))\n",
    "# for i in l.iteritems():\n",
    "#     print(i)"
   ]
  },
  {
   "cell_type": "code",
   "execution_count": 58,
   "id": "e1404ae9",
   "metadata": {},
   "outputs": [],
   "source": [
    "## (-10000000000.0, 109804)\n",
    "\n",
    "\n",
    "# l=data[\"b_bp700_m_pow_minus_1\"].value_counts()\n",
    "# l=l.sort_index()\n",
    "# print(\"length is: \",len(l))\n",
    "# for i in l.iteritems():\n",
    "#     print(i)"
   ]
  },
  {
   "cell_type": "code",
   "execution_count": 59,
   "id": "3df78064",
   "metadata": {},
   "outputs": [],
   "source": [
    "## (-10000000000.0, 109804)\n",
    "\n",
    "\n",
    "# l=data[\"POC_milli_mol_m_pow_minus_3\"].value_counts()\n",
    "# l=l.sort_index()\n",
    "# print(\"length is: \",len(l))\n",
    "# for i in l.iteritems():\n",
    "#     print(i)"
   ]
  },
  {
   "cell_type": "code",
   "execution_count": 60,
   "id": "1841cfb8",
   "metadata": {},
   "outputs": [],
   "source": [
    "## why does it have negative valuess?????\n",
    "## (-10000000000.0, 101285)\n",
    "\n",
    "\n",
    "\n",
    "\n",
    "# l=data[\"pH_insitu_total\"].value_counts()\n",
    "# l=l.sort_index()\n",
    "# print(\"length is: \",len(l))\n",
    "# for i in l.iteritems():\n",
    "#     print(i)"
   ]
  },
  {
   "cell_type": "code",
   "execution_count": 61,
   "id": "3df19b8a",
   "metadata": {},
   "outputs": [],
   "source": [
    "## (-10000000000.0, 125547)\n",
    "\n",
    "\n",
    "# l=data[\"pH_25C_total\"].value_counts()\n",
    "# l=l.sort_index()\n",
    "# print(\"length is: \",len(l))\n",
    "# for i in l.iteritems():\n",
    "#     print(i)"
   ]
  },
  {
   "cell_type": "code",
   "execution_count": 62,
   "id": "dd1efd7b",
   "metadata": {},
   "outputs": [],
   "source": [
    "## (-10000000000.0, 33343)\n",
    "\n",
    "\n",
    "\n",
    "# l=data[\"TALK_micro_mol_kg_pow_minus_1\"].value_counts()\n",
    "# l=l.sort_index()\n",
    "# print(\"length is: \",len(l))\n",
    "# for i in l.iteritems():\n",
    "#     print(i)"
   ]
  },
  {
   "cell_type": "code",
   "execution_count": 63,
   "id": "ca60558a",
   "metadata": {},
   "outputs": [],
   "source": [
    "# (-10000000000.0, 125547)\n",
    "\n",
    "\n",
    "# l=data[\"DIC_micro_mol_kg_pow_minus_1\"].value_counts()\n",
    "# l=l.sort_index()\n",
    "# print(\"length is: \",len(l))\n",
    "# for i in l.iteritems():\n",
    "#     print(i)"
   ]
  },
  {
   "cell_type": "code",
   "execution_count": 64,
   "id": "3c382e64",
   "metadata": {},
   "outputs": [],
   "source": [
    "## so many (-10000000000.0, 160412), thinking about droping this column??\n",
    "\n",
    "\n",
    "# l=data[\"pCO2_micro_atm\"].value_counts()\n",
    "# l=l.sort_index()\n",
    "# print(\"length is: \",len(l))\n",
    "# for i in l.iteritems():\n",
    "#     print(i)"
   ]
  },
  {
   "cell_type": "code",
   "execution_count": 65,
   "id": "e419d802",
   "metadata": {},
   "outputs": [],
   "source": [
    "## so many (-10000000000.0, 129650), thinking about dropping it\n",
    "\n",
    "\n",
    "\n",
    "\n",
    "\n",
    "# l=data[\"CDOM_ppb\"].value_counts()\n",
    "# l=l.sort_index()\n",
    "# print(\"length is: \",len(l))\n",
    "# for i in l.iteritems():\n",
    "#     print(i)"
   ]
  },
  {
   "cell_type": "code",
   "execution_count": 66,
   "id": "8c07f0c1",
   "metadata": {},
   "outputs": [],
   "source": [
    "# l=data[\"oxygen_mu_molkg_pow_minus_1\"].value_counts()\n",
    "# l=l.sort_index()\n",
    "# print(\"length is: \",len(l))\n",
    "# for i in l.iteritems():\n",
    "#     print(i)\n"
   ]
  },
  {
   "cell_type": "code",
   "execution_count": 67,
   "id": "ec84139e",
   "metadata": {},
   "outputs": [],
   "source": [
    "# l=data[\"nitrate_mu_mol_kg_pow_minus_1\"].value_counts()\n",
    "# l=l.sort_index()\n",
    "# print(\"length is: \",len(l))\n",
    "# for i in l.iteritems():\n",
    "#     print(i)\n"
   ]
  },
  {
   "cell_type": "code",
   "execution_count": 68,
   "id": "e4a84a80",
   "metadata": {},
   "outputs": [],
   "source": [
    "## dropping this column\n",
    "\n",
    "\n",
    "# l=data[\"oxygen_saturation_percentage\"].value_counts()\n",
    "# l=l.sort_index()\n",
    "# print(\"length is: \",len(l))\n",
    "# for i in l.iteritems():\n",
    "#     print(i)\n"
   ]
  },
  {
   "cell_type": "code",
   "execution_count": 69,
   "id": "0eb44f35",
   "metadata": {},
   "outputs": [],
   "source": [
    "# columns which are having invalid values mixed with valid values\n",
    "\n",
    "col_list= [\"chl_a_mg_m_pow_minus_3\" ,\n",
    "    \"b_bp700_m_pow_minus_1\" , \n",
    "    \"POC_milli_mol_m_pow_minus_3\" , \n",
    "    \"pH_insitu_total\" , \"pH_25C_total\" , \n",
    "    \"TALK_micro_mol_kg_pow_minus_1\" , \n",
    "    \"DIC_micro_mol_kg_pow_minus_1\" , \n",
    "    \"pCO2_micro_atm\" , \n",
    "    \"CDOM_ppb\",\n",
    "    \"oxygen_mu_molkg_pow_minus_1\",\n",
    "    \"nitrate_mu_mol_kg_pow_minus_1\"]\n",
    "# print(len(col_list))"
   ]
  },
  {
   "cell_type": "code",
   "execution_count": 70,
   "id": "a1b87c1f",
   "metadata": {},
   "outputs": [],
   "source": [
    "# val dataframe is the one that would be worked on, \n",
    "\n",
    "val=data"
   ]
  },
  {
   "cell_type": "code",
   "execution_count": 71,
   "id": "648516cf",
   "metadata": {},
   "outputs": [],
   "source": [
    "# nitrate_mu_mol_kg_pow_minus_1 > 0 only available\n",
    "\n",
    "\n",
    "val=val[val['nitrate_mu_mol_kg_pow_minus_1']>0]"
   ]
  },
  {
   "cell_type": "code",
   "execution_count": 72,
   "id": "af1cb98f",
   "metadata": {},
   "outputs": [
    {
     "name": "stdout",
     "output_type": "stream",
     "text": [
      "after dropping rows, the shape of new dataframe:  (13631, 38)\n"
     ]
    }
   ],
   "source": [
    "# dropping all the rows that are having invalid values for some features\n",
    "\n",
    "for i in col_list:\n",
    "    val=val[val[i]!=-10000000000.0]\n",
    "print(\"after dropping rows, the shape of new dataframe: \",val.shape)\n",
    "# print(\"shape of previous dataframe: \",data.shape)\n",
    "# print(\"percentage of dropped data: \",((data.shape[0]-val.shape[0])/data.shape[0])*100,\"%\")"
   ]
  },
  {
   "cell_type": "code",
   "execution_count": null,
   "id": "157a31b2",
   "metadata": {},
   "outputs": [],
   "source": []
  },
  {
   "cell_type": "code",
   "execution_count": 73,
   "id": "c961507c",
   "metadata": {},
   "outputs": [],
   "source": [
    "# checking the min and max values of all columns\n",
    "\n",
    "\n",
    "\n",
    "\n",
    "\n",
    "# for col in val.columns:\n",
    "#     print(\"min value for \",col,\" column: \",val[col].unique().min())\n",
    "#     print(\"max value for \",col,\" column: \",val[col].unique().max())"
   ]
  },
  {
   "cell_type": "code",
   "execution_count": 74,
   "id": "93a23770",
   "metadata": {},
   "outputs": [],
   "source": [
    "# dropping some columns again, but don't know why!!!\n",
    "val.drop(['region','latitude_QF','salinity_QF','sigma_theta_QF','depth_QF','time'],axis=1,inplace=True)"
   ]
  },
  {
   "cell_type": "code",
   "execution_count": null,
   "id": "1765e329",
   "metadata": {},
   "outputs": [],
   "source": []
  },
  {
   "cell_type": "code",
   "execution_count": null,
   "id": "9eb8ee91",
   "metadata": {},
   "outputs": [],
   "source": []
  },
  {
   "cell_type": "code",
   "execution_count": 75,
   "id": "37259a3a",
   "metadata": {},
   "outputs": [],
   "source": [
    "# pearson correlation coefficient\n",
    "\n",
    "cor=val.corr(method=\"pearson\")"
   ]
  },
  {
   "cell_type": "code",
   "execution_count": 76,
   "id": "eea3ff3e",
   "metadata": {},
   "outputs": [],
   "source": [
    "# showing correlation matrix\n",
    "\n",
    "# cor"
   ]
  },
  {
   "cell_type": "code",
   "execution_count": 77,
   "id": "91f34141",
   "metadata": {},
   "outputs": [],
   "source": [
    "# val.to_csv(\"final.csv\",index=False)"
   ]
  },
  {
   "cell_type": "code",
   "execution_count": 78,
   "id": "f1acd9c1",
   "metadata": {},
   "outputs": [
    {
     "name": "stdout",
     "output_type": "stream",
     "text": [
      "abs value for  FloatID  is  4.768302308187256\n",
      "abs value for  Station  is  6.2500519977801074\n",
      "abs value for  longitude_degrees_east  is  6.978093917129925\n",
      "abs value for  latitude_degrees_north  is  7.316193510069355\n",
      "abs value for  Pressure_dbar  is  9.346970293047299\n",
      "abs value for  Temperature_Celcius  is  10.630142200970534\n",
      "abs value for  salinity_pss  is  10.236168532862973\n",
      "abs value for  Sigma_theta_kg_m_pow_minus_3  is  10.808074177968939\n",
      "abs value for  depth_m  is  9.352707798939228\n",
      "abs value for  oxygen_mu_molkg_pow_minus_1  is  2.7884726901536148\n",
      "abs value for  oxygen_QF  is  7.046171730694423\n",
      "abs value for  oxygen saturation_QF  is  7.046171730694423\n",
      "abs value for  nitrate_mu_mol_kg_pow_minus_1  is  10.51525915796225\n",
      "abs value for  nitrate_QF  is  4.286044844600983\n",
      "abs value for  chl_a_mg_m_pow_minus_3  is  5.194295928869877\n",
      "abs value for  chl_a_QF  is  3.6397688408214135\n",
      "abs value for  b_bp700_m_pow_minus_1  is  3.887006164547838\n",
      "abs value for  b_bp700_QF  is  4.304170127320831\n",
      "abs value for  POC_milli_mol_m_pow_minus_3  is  3.887148593155596\n",
      "abs value for  POC_QF  is  4.304170127320831\n",
      "abs value for  pH_insitu_total  is  9.985886457808421\n",
      "abs value for  pH_insitu_QF  is  5.962584847094609\n",
      "abs value for  pH_25C_total  is  11.222850352545423\n",
      "abs value for  pH_25C_QF  is  7.849471324774508\n",
      "abs value for  TALK_micro_mol_kg_pow_minus_1  is  10.036859507521326\n",
      "abs value for  TALK_QF  is  7.046171730694423\n",
      "abs value for  DIC_micro_mol_kg_pow_minus_1  is  10.858200245353922\n",
      "abs value for  DIC_QF  is  7.849471324774508\n",
      "abs value for  pCO2_micro_atm  is  7.3323642199185715\n",
      "abs value for  pCO2_QF  is  7.849471324774508\n",
      "abs value for  CDOM_ppb  is  7.484358194251976\n",
      "abs value for  CDOM_QF  is  2.817342603706346\n"
     ]
    }
   ],
   "source": [
    "# sum of all the correlation co efficient for all columns\n",
    "# low correlation coefficient has been considered, please take it into account in future\n",
    "\n",
    "cor_list=[]\n",
    "cor_col=cor.columns\n",
    "for i in cor_col:\n",
    "    sm=0\n",
    "    for j in cor[i]:\n",
    "        sm+=abs(j)\n",
    "    print(\"abs value for \",i,\" is \",sm)\n",
    "    cor_list.append((i,sm))\n",
    "cor_list.sort(key=lambda i:i[1], reverse= True)"
   ]
  },
  {
   "cell_type": "code",
   "execution_count": null,
   "id": "c2e78dde",
   "metadata": {},
   "outputs": [],
   "source": []
  },
  {
   "cell_type": "code",
   "execution_count": 79,
   "id": "6b0bcda0",
   "metadata": {},
   "outputs": [],
   "source": [
    "# printing the total correlation coefficient for all columns in descendingly sorted order\n",
    "\n",
    "# for i in cor_list:\n",
    "#     print(i)"
   ]
  },
  {
   "cell_type": "code",
   "execution_count": null,
   "id": "98973a6a",
   "metadata": {},
   "outputs": [],
   "source": []
  },
  {
   "cell_type": "code",
   "execution_count": 80,
   "id": "170cfc41",
   "metadata": {},
   "outputs": [],
   "source": [
    "# train test split (70%-30%)\n",
    "train,test = train_test_split(val,\n",
    "                          random_state=14,\n",
    "                          test_size=0.05,\n",
    "                        train_size=0.05)\n",
    "\n",
    "# training data\n",
    "x_train=train.drop(['pH_25C_total'],axis=1)\n",
    "y_train=train['pH_25C_total']\n",
    "#test data\n",
    "x_test=test.drop(['pH_25C_total'],axis=1)\n",
    "y_test=test['pH_25C_total']\n",
    "\n",
    "\n",
    "# converting target column on both test and training set into frame\n",
    "\n",
    "y_test=y_test.to_frame()\n",
    "y_train=y_train.to_frame()\n",
    "\n",
    "# initiating the scaling instances\n",
    "\n",
    "sc_x=StandardScaler()\n",
    "sc_y=StandardScaler()\n",
    "\n",
    "# fitting the training and testing data to the scaling instances\n",
    "\n",
    "x_train1=sc_x.fit_transform(x_train)\n",
    "y_train1=sc_y.fit_transform(y_train)\n",
    "x_test1=sc_x.fit_transform(x_test)"
   ]
  },
  {
   "cell_type": "code",
   "execution_count": 81,
   "id": "26ad749f",
   "metadata": {},
   "outputs": [],
   "source": [
    "# taking into account only those columns which are having total correlation coefficient >=9.5\n",
    "\n",
    "# for i in cor_list:\n",
    "#     if(i[1]>=9.5):\n",
    "#         print(i)\n",
    "#     else:\n",
    "#         break"
   ]
  },
  {
   "cell_type": "code",
   "execution_count": null,
   "id": "1d4da553",
   "metadata": {
    "scrolled": true
   },
   "outputs": [],
   "source": []
  },
  {
   "cell_type": "code",
   "execution_count": 82,
   "id": "b0532ccc",
   "metadata": {},
   "outputs": [],
   "source": [
    "# checking the range of top columns\n",
    "\n",
    "# for i in cor_list:\n",
    "#     if(i[1]>=9.5):\n",
    "#         print(\"range of \",i[0],\" is: \",val[i[0]].unique().min(),\"-\",val[i[0]].unique().max())\n",
    "#     else:\n",
    "#         break"
   ]
  },
  {
   "cell_type": "code",
   "execution_count": 83,
   "id": "fc40a677",
   "metadata": {},
   "outputs": [],
   "source": [
    "# nitrate_list=val['nitrate_mu_mol_kg_pow_minus_1'].value_counts().sort_index()\n",
    "# for i in nitrate_list.iteritems():\n",
    "#     print(i)"
   ]
  },
  {
   "cell_type": "code",
   "execution_count": 84,
   "id": "6b6af4d2",
   "metadata": {},
   "outputs": [],
   "source": [
    "## the following is being used to predict pH_25C_total column"
   ]
  },
  {
   "cell_type": "code",
   "execution_count": null,
   "id": "8bfd0de7",
   "metadata": {},
   "outputs": [],
   "source": []
  },
  {
   "cell_type": "code",
   "execution_count": null,
   "id": "5bb39217",
   "metadata": {},
   "outputs": [],
   "source": []
  },
  {
   "cell_type": "code",
   "execution_count": null,
   "id": "ab5baabf",
   "metadata": {},
   "outputs": [],
   "source": []
  },
  {
   "cell_type": "code",
   "execution_count": null,
   "id": "35a9d56b",
   "metadata": {},
   "outputs": [],
   "source": []
  },
  {
   "cell_type": "code",
   "execution_count": null,
   "id": "88dc10a9",
   "metadata": {},
   "outputs": [],
   "source": []
  },
  {
   "cell_type": "code",
   "execution_count": null,
   "id": "7a374be1",
   "metadata": {},
   "outputs": [],
   "source": []
  },
  {
   "cell_type": "code",
   "execution_count": null,
   "id": "5a696fea",
   "metadata": {},
   "outputs": [],
   "source": []
  },
  {
   "cell_type": "code",
   "execution_count": 85,
   "id": "0d3e912f",
   "metadata": {},
   "outputs": [],
   "source": [
    "# x_train1[:,0].max()\n",
    "#  check the max and the min value for all the columns of test and train data\n"
   ]
  },
  {
   "cell_type": "code",
   "execution_count": 49,
   "id": "624ff476",
   "metadata": {},
   "outputs": [
    {
     "name": "stdout",
     "output_type": "stream",
     "text": [
      "MSE: 0.020038631032365757\n",
      "RMSE: 0.1415578716722096\n",
      "r2 value:  0.009607516421497486\n",
      "adjusted r2 value:  -0.03762658664147733\n"
     ]
    }
   ],
   "source": [
    "def gaussianKernel(U,V,sigma):\n",
    "        return np.exp((-1/(2*(sigma*sigma)))*(np.sum(np.power((U-V),2))))\n",
    "def gram(U,V,sigma=0.1):\n",
    "    G = np.zeros((U.shape[0], V.shape[0]))\n",
    "    for i in range(0,U.shape[0]):\n",
    "        for j in range(0,V.shape[0]):\n",
    "            G[i][j] = gaussianKernel(U[i],V[j],sigma)\n",
    "    return G\n",
    "\n",
    "\n",
    "regressor=SVR(kernel = \"precomputed\")\n",
    "y_train1=y_train1.ravel()\n",
    "regressor.fit(gram(x_train1,x_train1,0.2),y_train1)\n",
    "y_pred=regressor.predict(gram(x_test1,x_train1))\n",
    "y_pred=np.reshape(y_pred,(y_pred.shape[0],1))\n",
    "y_pred=sc_y.inverse_transform(y_pred)\n",
    "\n",
    "\n",
    "# evaluating the model\n",
    "# mse\n",
    "print(\"MSE:\", mean_squared_error(y_test, y_pred))\n",
    "# RMSE\n",
    "print(\"RMSE:\", np.sqrt(mean_squared_error(y_test, y_pred)))\n",
    "# r2 score\n",
    "r2 = r2_score(y_test,y_pred)\n",
    "print(\"r2 value: \",r2)\n",
    "# adjusted r2 score\n",
    "n=y_test.shape[0]\n",
    "k=x_train.shape[1]\n",
    "adj_r2_score = 1 - ((1-r2)*(n-1)/(n-k-1))\n",
    "print(\"adjusted r2 value: \",adj_r2_score)"
   ]
  },
  {
   "cell_type": "code",
   "execution_count": 130,
   "id": "5be93dad",
   "metadata": {},
   "outputs": [
    {
     "name": "stdout",
     "output_type": "stream",
     "text": [
      "MSE: 0.00023745663745786632\n",
      "RMSE: 0.015409628076558704\n",
      "r2 value:  0.9882639054267605\n",
      "adjusted r2 value:  0.9877041839932675\n"
     ]
    }
   ],
   "source": [
    "def gaussianKernel(U,V,sigma):\n",
    "    return np.dot(U,V)\n",
    "def gram(U,V,sigma=0.1):\n",
    "    G = np.zeros((U.shape[0], V.shape[0]))\n",
    "    for i in range(0,U.shape[0]):\n",
    "        for j in range(0,V.shape[0]):\n",
    "            G[i][j] = gaussianKernel(U[i],V[j],sigma)\n",
    "    return G\n",
    "\n",
    "\n",
    "regressor=SVR(kernel = \"precomputed\")\n",
    "y_train1=y_train1.ravel()\n",
    "regressor.fit(gram(x_train1,x_train1),y_train1)\n",
    "y_pred=regressor.predict(gram(x_test1,x_train1))\n",
    "y_pred=np.reshape(y_pred,(y_pred.shape[0],1))\n",
    "y_pred=sc_y.inverse_transform(y_pred)\n",
    "\n",
    "\n",
    "# evaluating the model\n",
    "# mse\n",
    "print(\"MSE:\", mean_squared_error(y_test, y_pred))\n",
    "# RMSE\n",
    "print(\"RMSE:\", np.sqrt(mean_squared_error(y_test, y_pred)))\n",
    "# r2 score\n",
    "r2 = r2_score(y_test,y_pred)\n",
    "print(\"r2 value: \",r2)\n",
    "# adjusted r2 score\n",
    "n=y_test.shape[0]\n",
    "k=x_train.shape[1]\n",
    "adj_r2_score = 1 - ((1-r2)*(n-1)/(n-k-1))\n",
    "print(\"adjusted r2 value: \",adj_r2_score)"
   ]
  },
  {
   "cell_type": "code",
   "execution_count": 142,
   "id": "cac93d18",
   "metadata": {},
   "outputs": [],
   "source": [
    "# custom kernel\n",
    "\n",
    "\n",
    "# def gaussianKernel(U,V,sigma):\n",
    "#         return np.exp((-1/(2*(sigma*sigma)))*(np.sum(np.power((U-V),2))))"
   ]
  },
  {
   "cell_type": "code",
   "execution_count": 143,
   "id": "9f61881f",
   "metadata": {},
   "outputs": [],
   "source": [
    "# def gram(U,V,x_shape,y_shape,sigma=0.1):\n",
    "#     G = np.zeros((U.shape[0], V.shape[0]))\n",
    "#     for i in range(0,U.shape[0]):\n",
    "#         for j in range(0,V.shape[0]):\n",
    "#             G[i][j] = gaussianKernel(U[i],V[j],sigma)\n",
    "#     return G"
   ]
  },
  {
   "cell_type": "code",
   "execution_count": 151,
   "id": "b18afef4",
   "metadata": {},
   "outputs": [],
   "source": [
    "# def gram_mat(x,y):\n",
    "#     if __name__ == '__main__':        \n",
    "#         p=list()\n",
    "#         run=math.ceil(x_train1.shape[0]/100)\n",
    "#         adv=0\n",
    "# # cnt=0\n",
    "#         for i in range(run):\n",
    "#             adv=adv+100\n",
    "#             if(i==run-1):\n",
    "#                 print(x_train1[adv-100:].shape)\n",
    "#                 p[i]=mp.Process(target=gram,args=(x[adv-100:],y[adv-100:],x[adv-100:].shape[0],\n",
    "#                                                  y[adv-100:].shape[0]))\n",
    "#         #something\n",
    "#         #print(x_train1[adv-100:].shape)\n",
    "#         #cnt=cnt+x_train1[adv-100:].shape[0]\n",
    "#             else:\n",
    "#                 print(x_train1[adv-100:adv].shape)\n",
    "#                 p[i]=mp.Process(target=gram,args=(x[adv-100:adv],y[adv-100:adv],100,100,))\n",
    "                \n",
    "#         #print(x_train1[adv-100:adv].shape)\n",
    "#         #cnt=cnt+x_train1[adv-100:adv].shape[0]\n",
    "#         #something\n",
    "    \n",
    "        "
   ]
  },
  {
   "cell_type": "code",
   "execution_count": 50,
   "id": "6af810f7",
   "metadata": {},
   "outputs": [],
   "source": [
    "# regressor=SVR(kernel = \"precomputed\")\n",
    "# y_train1=y_train1.ravel()\n",
    "# regressor.fit(gram_mat(x_train1,x_train1),y_train1)\n",
    "# y_pred=regressor.predict(gram_mat(x_test1,x_train1))\n",
    "# y_pred=np.reshape(y_pred,(y_pred.shape[0],1))\n",
    "# y_pred=sc_y.inverse_transform(y_pred)\n",
    "\n",
    "\n",
    "# # evaluating the model\n",
    "# # mse\n",
    "# print(\"MSE:\", mean_squared_error(y_test, y_pred))\n",
    "# # RMSE\n",
    "# print(\"RMSE:\", np.sqrt(mean_squared_error(y_test, y_pred)))\n",
    "# # r2 score\n",
    "# r2 = r2_score(y_test,y_pred)\n",
    "# print(\"r2 value: \",r2)\n",
    "# # adjusted r2 score\n",
    "# n=y_test.shape[0]\n",
    "# k=x_train.shape[1]\n",
    "# adj_r2_score = 1 - ((1-r2)*(n-1)/(n-k-1))\n",
    "# print(\"adjusted r2 value: \",adj_r2_score)"
   ]
  },
  {
   "cell_type": "code",
   "execution_count": null,
   "id": "33b67336",
   "metadata": {},
   "outputs": [],
   "source": [
    "\n",
    "        "
   ]
  },
  {
   "cell_type": "code",
   "execution_count": null,
   "id": "64e04333",
   "metadata": {},
   "outputs": [],
   "source": []
  },
  {
   "cell_type": "code",
   "execution_count": null,
   "id": "ea73bd2d",
   "metadata": {},
   "outputs": [],
   "source": []
  },
  {
   "cell_type": "code",
   "execution_count": null,
   "id": "2fd11569",
   "metadata": {},
   "outputs": [],
   "source": []
  },
  {
   "cell_type": "code",
   "execution_count": null,
   "id": "c0695dd8",
   "metadata": {},
   "outputs": [],
   "source": []
  },
  {
   "cell_type": "code",
   "execution_count": null,
   "id": "f7586077",
   "metadata": {},
   "outputs": [],
   "source": []
  },
  {
   "cell_type": "code",
   "execution_count": null,
   "id": "f4a32fe2",
   "metadata": {},
   "outputs": [],
   "source": []
  },
  {
   "cell_type": "code",
   "execution_count": null,
   "id": "e35ac101",
   "metadata": {},
   "outputs": [],
   "source": []
  },
  {
   "cell_type": "code",
   "execution_count": null,
   "id": "b85399f1",
   "metadata": {},
   "outputs": [],
   "source": []
  },
  {
   "cell_type": "code",
   "execution_count": null,
   "id": "594c588a",
   "metadata": {},
   "outputs": [],
   "source": []
  },
  {
   "cell_type": "code",
   "execution_count": null,
   "id": "2b6dad9e",
   "metadata": {},
   "outputs": [],
   "source": []
  },
  {
   "cell_type": "code",
   "execution_count": null,
   "id": "9c836359",
   "metadata": {},
   "outputs": [],
   "source": []
  },
  {
   "cell_type": "code",
   "execution_count": null,
   "id": "9f3e4ecd",
   "metadata": {},
   "outputs": [],
   "source": []
  },
  {
   "cell_type": "code",
   "execution_count": null,
   "id": "8091d6fa",
   "metadata": {},
   "outputs": [],
   "source": []
  },
  {
   "cell_type": "code",
   "execution_count": null,
   "id": "203ae395",
   "metadata": {},
   "outputs": [],
   "source": []
  },
  {
   "cell_type": "code",
   "execution_count": null,
   "id": "2ea553d4",
   "metadata": {},
   "outputs": [],
   "source": []
  },
  {
   "cell_type": "code",
   "execution_count": null,
   "id": "c1b3a174",
   "metadata": {},
   "outputs": [],
   "source": []
  },
  {
   "cell_type": "code",
   "execution_count": null,
   "id": "f45064f7",
   "metadata": {},
   "outputs": [],
   "source": []
  },
  {
   "cell_type": "code",
   "execution_count": null,
   "id": "dcaf03a9",
   "metadata": {},
   "outputs": [],
   "source": []
  },
  {
   "cell_type": "code",
   "execution_count": null,
   "id": "af763367",
   "metadata": {},
   "outputs": [],
   "source": []
  },
  {
   "cell_type": "code",
   "execution_count": null,
   "id": "d2c41011",
   "metadata": {},
   "outputs": [],
   "source": []
  },
  {
   "cell_type": "code",
   "execution_count": null,
   "id": "70974dce",
   "metadata": {},
   "outputs": [],
   "source": []
  },
  {
   "cell_type": "code",
   "execution_count": null,
   "id": "76b8209e",
   "metadata": {},
   "outputs": [],
   "source": []
  },
  {
   "cell_type": "code",
   "execution_count": null,
   "id": "804f78b0",
   "metadata": {},
   "outputs": [],
   "source": []
  },
  {
   "cell_type": "code",
   "execution_count": null,
   "id": "5357e7e6",
   "metadata": {},
   "outputs": [],
   "source": []
  },
  {
   "cell_type": "code",
   "execution_count": 49,
   "id": "80bbcc05",
   "metadata": {},
   "outputs": [
    {
     "data": {
      "text/plain": [
       "SVR(kernel='linear')"
      ]
     },
     "execution_count": 49,
     "metadata": {},
     "output_type": "execute_result"
    }
   ],
   "source": [
    "# linear kernel based SVR called, and the model fitted to the training data\n",
    "\n",
    "regressor=SVR(kernel='linear')\n",
    "y_train1=y_train1.ravel()\n",
    "regressor.fit(x_train1,y_train1)"
   ]
  },
  {
   "cell_type": "code",
   "execution_count": 50,
   "id": "73119a11",
   "metadata": {},
   "outputs": [
    {
     "name": "stdout",
     "output_type": "stream",
     "text": [
      "previously y_pred shape was:  (4090,)\n",
      "currently y_pred shape is:  (4090, 1)\n"
     ]
    }
   ],
   "source": [
    "# predicting based on test data\n",
    "\n",
    "\n",
    "# prediction function\n",
    "y_pred=regressor.predict(x_test1)\n",
    "\n",
    "# inverting and reshaping the y_pred\n",
    "print(\"previously y_pred shape was: \",y_pred.shape)\n",
    "y_pred=np.reshape(y_pred,(y_pred.shape[0],1))\n",
    "print(\"currently y_pred shape is: \",y_pred.shape)\n",
    "\n",
    "# inverting the scaling function, and getting the actual data for the predicted column\n",
    "y_pred=sc_y.inverse_transform(y_pred)"
   ]
  },
  {
   "cell_type": "code",
   "execution_count": 51,
   "id": "5fad690d",
   "metadata": {},
   "outputs": [],
   "source": [
    "# converting y_pred to series\n",
    "\n",
    "y_pred=y_pred.flatten()\n",
    "y_pred=pd.Series(y_pred)"
   ]
  },
  {
   "cell_type": "code",
   "execution_count": 52,
   "id": "2d4c6279",
   "metadata": {},
   "outputs": [],
   "source": [
    "# converting to list and then to series\n",
    "y_test_series=pd.Series(list(y_test['pH_25C_total']))"
   ]
  },
  {
   "cell_type": "code",
   "execution_count": 53,
   "id": "473c778c",
   "metadata": {
    "collapsed": true
   },
   "outputs": [
    {
     "name": "stdout",
     "output_type": "stream",
     "text": [
      "0       0.000701\n",
      "1       0.002072\n",
      "2       0.002275\n",
      "3       0.005410\n",
      "4       0.008378\n",
      "          ...   \n",
      "4085    0.014386\n",
      "4086    0.000554\n",
      "4087    0.002969\n",
      "4088    0.003119\n",
      "4089    0.017426\n",
      "Length: 4090, dtype: float64\n"
     ]
    }
   ],
   "source": [
    "print(abs(y_pred-y_test_series))"
   ]
  },
  {
   "cell_type": "code",
   "execution_count": 54,
   "id": "bd0bda38",
   "metadata": {
    "collapsed": true
   },
   "outputs": [
    {
     "name": "stdout",
     "output_type": "stream",
     "text": [
      "MSE: 4.168691127198012e-05\n",
      "r2 value:  0.99786335466238\n",
      "adjusted r2 value:  0.9978470323347638\n"
     ]
    }
   ],
   "source": [
    "# score = SVR.score(x_train1,y_train1)\n",
    "# print(\"R-squared:\", score)\n",
    "print(\"MSE:\", mean_squared_error(y_test, y_pred))\n",
    "\n",
    "\n",
    "# r2 score\n",
    "r2 = r2_score(y_test,y_pred)\n",
    "print(\"r2 value: \",r2)\n",
    "\n",
    "\n",
    "# adjusted r2 score\n",
    "n=y_test.shape[0]\n",
    "k=x_train.shape[1]\n",
    "adj_r2_score = 1 - ((1-r2)*(n-1)/(n-k-1))\n",
    "print(\"adjusted r2 value: \",adj_r2_score)"
   ]
  },
  {
   "cell_type": "code",
   "execution_count": 55,
   "id": "7d430d26",
   "metadata": {},
   "outputs": [
    {
     "name": "stdout",
     "output_type": "stream",
     "text": [
      "31\n"
     ]
    }
   ],
   "source": [
    "# diff=y_test['pH_25C_total']-y_pred['pH_25C_total']\n",
    "print(x_train.shape[1])"
   ]
  },
  {
   "cell_type": "code",
   "execution_count": null,
   "id": "d54226cc",
   "metadata": {},
   "outputs": [],
   "source": []
  },
  {
   "cell_type": "code",
   "execution_count": 56,
   "id": "1e5b5c6a",
   "metadata": {},
   "outputs": [],
   "source": [
    "## the following section is for poly kernel\n",
    "\n",
    "\n"
   ]
  },
  {
   "cell_type": "code",
   "execution_count": 57,
   "id": "f08480c5",
   "metadata": {
    "collapsed": true
   },
   "outputs": [
    {
     "name": "stdout",
     "output_type": "stream",
     "text": [
      "degree is:  2\n",
      "MSE: 0.0009909741268145653\n",
      "RMSE: 0.03147974153030112\n",
      "r2 value:  0.9492080323738551\n",
      "adjusted r2 value:  0.9488200207926795\n",
      "degree is:  3\n",
      "MSE: 0.002485824909117571\n",
      "RMSE: 0.04985804758629815\n",
      "r2 value:  0.8725900758741095\n",
      "adjusted r2 value:  0.8716167620131183\n",
      "degree is:  4\n",
      "MSE: 0.07688579912993057\n",
      "RMSE: 0.27728288647143473\n",
      "r2 value:  -2.9407497276147034\n",
      "adjusted r2 value:  -2.9708540256817453\n"
     ]
    }
   ],
   "source": [
    "# degree 2 is better, and by default is 3\n",
    "\n",
    "for i in [2,3,4]:\n",
    "    \n",
    "    print(\"degree is: \",i)\n",
    "    regressor=SVR(kernel='poly',degree=i)\n",
    "    y_train1=y_train1.ravel()\n",
    "    regressor.fit(x_train1,y_train1)\n",
    "    y_pred=regressor.predict(x_test1)\n",
    "    y_pred=np.reshape(y_pred,(y_pred.shape[0],1))\n",
    "    y_pred=sc_y.inverse_transform(y_pred)\n",
    "    # mse\n",
    "    print(\"MSE:\", mean_squared_error(y_test, y_pred))\n",
    "\n",
    "    # RMSE\n",
    "    print(\"RMSE:\", np.sqrt(mean_squared_error(y_test, y_pred)))\n",
    "    # r2 score\n",
    "    r2 = r2_score(y_test,y_pred)\n",
    "    print(\"r2 value: \",r2)\n",
    "\n",
    "\n",
    "    # adjusted r2 score\n",
    "    n=y_test.shape[0]\n",
    "    k=x_train.shape[1]\n",
    "    adj_r2_score = 1 - ((1-r2)*(n-1)/(n-k-1))\n",
    "    print(\"adjusted r2 value: \",adj_r2_score)"
   ]
  },
  {
   "cell_type": "code",
   "execution_count": 58,
   "id": "9c7a0b86",
   "metadata": {},
   "outputs": [
    {
     "name": "stdout",
     "output_type": "stream",
     "text": [
      "coef0 is:  0.3\n",
      "MSE: 6.841937259772882e-05\n",
      "RMSE: 0.008271600364967399\n",
      "r2 value:  0.9964931934508162\n",
      "adjusted r2 value:  0.9964664041449944\n",
      "coef0 is:  0.4\n",
      "MSE: 6.736666676963475e-05\n",
      "RMSE: 0.008207719949513064\n",
      "r2 value:  0.9965471494511734\n",
      "adjusted r2 value:  0.9965207723277102\n"
     ]
    }
   ],
   "source": [
    "# lesser coef0 is better, and 0.4 is good!!!!\n",
    "\n",
    "for i in [0.3,0.4]:\n",
    "    \n",
    "    print(\"coef0 is: \",i)\n",
    "    regressor=SVR(kernel='poly',coef0=i)\n",
    "    y_train1=y_train1.ravel()\n",
    "    regressor.fit(x_train1,y_train1)\n",
    "    y_pred=regressor.predict(x_test1)\n",
    "    y_pred=np.reshape(y_pred,(y_pred.shape[0],1))\n",
    "    y_pred=sc_y.inverse_transform(y_pred)\n",
    "    # mse\n",
    "    print(\"MSE:\", mean_squared_error(y_test, y_pred))\n",
    "\n",
    "    # RMSE\n",
    "    print(\"RMSE:\", np.sqrt(mean_squared_error(y_test, y_pred)))\n",
    "    # r2 score\n",
    "    r2 = r2_score(y_test,y_pred)\n",
    "    print(\"r2 value: \",r2)\n",
    "\n",
    "\n",
    "    # adjusted r2 score\n",
    "    n=y_test.shape[0]\n",
    "    k=x_train.shape[1]\n",
    "    adj_r2_score = 1 - ((1-r2)*(n-1)/(n-k-1))\n",
    "    print(\"adjusted r2 value: \",adj_r2_score)"
   ]
  },
  {
   "cell_type": "code",
   "execution_count": 59,
   "id": "50257a29",
   "metadata": {},
   "outputs": [
    {
     "name": "stdout",
     "output_type": "stream",
     "text": [
      "MSE: 7.992369363424844e-05\n",
      "RMSE: 0.008940005236813256\n",
      "r2 value:  0.9959035442502604\n",
      "adjusted r2 value:  0.9958722504778992\n"
     ]
    }
   ],
   "source": [
    "regressor=SVR(kernel='poly',degree=2,coef0=0.4)\n",
    "y_train1=y_train1.ravel()\n",
    "regressor.fit(x_train1,y_train1)\n",
    "y_pred=regressor.predict(x_test1)\n",
    "y_pred=np.reshape(y_pred,(y_pred.shape[0],1))\n",
    "y_pred=sc_y.inverse_transform(y_pred)\n",
    "# mse\n",
    "print(\"MSE:\", mean_squared_error(y_test, y_pred))\n",
    "\n",
    "# RMSE\n",
    "print(\"RMSE:\", np.sqrt(mean_squared_error(y_test, y_pred)))\n",
    "# r2 score\n",
    "r2 = r2_score(y_test,y_pred)\n",
    "print(\"r2 value: \",r2)\n",
    "\n",
    "\n",
    "# adjusted r2 score\n",
    "n=y_test.shape[0]\n",
    "k=x_train.shape[1]\n",
    "adj_r2_score = 1 - ((1-r2)*(n-1)/(n-k-1))\n",
    "print(\"adjusted r2 value: \",adj_r2_score)"
   ]
  },
  {
   "cell_type": "code",
   "execution_count": 60,
   "id": "79196b7c",
   "metadata": {},
   "outputs": [],
   "source": [
    "## the following section is for rbf"
   ]
  },
  {
   "cell_type": "code",
   "execution_count": 61,
   "id": "f2f1dc78",
   "metadata": {},
   "outputs": [
    {
     "name": "stdout",
     "output_type": "stream",
     "text": [
      "C is:  1\n",
      "MSE: 9.335307091425874e-05\n",
      "RMSE: 0.009661939293654186\n",
      "r2 value:  0.9952152270908224\n",
      "adjusted r2 value:  0.9951786751045769\n",
      "C is:  3\n",
      "MSE: 9.305489670737275e-05\n",
      "RMSE: 0.0096464966027762\n",
      "r2 value:  0.9952305098860572\n",
      "adjusted r2 value:  0.9951940746486171\n",
      "C is:  4\n",
      "MSE: 9.290203457897008e-05\n",
      "RMSE: 0.009638570152204635\n",
      "r2 value:  0.9952383447710124\n",
      "adjusted r2 value:  0.9952019693860694\n",
      "C is:  5\n",
      "MSE: 9.290203457897008e-05\n",
      "RMSE: 0.009638570152204635\n",
      "r2 value:  0.9952383447710124\n",
      "adjusted r2 value:  0.9952019693860694\n"
     ]
    }
   ],
   "source": [
    "## better prediction for C=4\n",
    "\n",
    "\n",
    "\n",
    "for i in [1,3,4,5]:\n",
    "    print(\"C is: \",i)\n",
    "    regressor=SVR(C=i)\n",
    "    y_train1=y_train1.ravel()\n",
    "    regressor.fit(x_train1,y_train1)\n",
    "    y_pred=regressor.predict(x_test1)\n",
    "    y_pred=np.reshape(y_pred,(y_pred.shape[0],1))\n",
    "    y_pred=sc_y.inverse_transform(y_pred)\n",
    "    # mse\n",
    "    print(\"MSE:\", mean_squared_error(y_test, y_pred))\n",
    "\n",
    "    # RMSE\n",
    "    print(\"RMSE:\", np.sqrt(mean_squared_error(y_test, y_pred)))\n",
    "    # r2 score\n",
    "    r2 = r2_score(y_test,y_pred)\n",
    "    print(\"r2 value: \",r2)\n",
    "\n",
    "\n",
    "    # adjusted r2 score\n",
    "    n=y_test.shape[0]\n",
    "    k=x_train.shape[1]\n",
    "    adj_r2_score = 1 - ((1-r2)*(n-1)/(n-k-1))\n",
    "    print(\"adjusted r2 value: \",adj_r2_score)"
   ]
  },
  {
   "cell_type": "code",
   "execution_count": 62,
   "id": "1d64ac89",
   "metadata": {},
   "outputs": [
    {
     "name": "stdout",
     "output_type": "stream",
     "text": [
      "epsilon is:  0.001\n",
      "MSE: 4.3705855085779604e-05\n",
      "RMSE: 0.0066110403935976374\n",
      "r2 value:  0.9977598745350439\n",
      "adjusted r2 value:  0.9977427616988158\n",
      "epsilon is:  0.0009\n",
      "MSE: 4.373121961102042e-05\n",
      "RMSE: 0.006612958461310673\n",
      "r2 value:  0.9977585744868287\n",
      "adjusted r2 value:  0.9977414517192318\n",
      "epsilon is:  0.0005\n",
      "MSE: 4.403015029596738e-05\n",
      "RMSE: 0.006635521855586596\n",
      "r2 value:  0.9977432529186249\n",
      "adjusted r2 value:  0.9977260131060269\n",
      "epsilon is:  0.002\n",
      "MSE: 4.357399079160259e-05\n",
      "RMSE: 0.006601059823361896\n",
      "r2 value:  0.9977666331847197\n",
      "adjusted r2 value:  0.9977495719793787\n"
     ]
    }
   ],
   "source": [
    "## epsilon = 0.001 produces better result\n",
    "for i in [0.001,0.0009,0.0005,0.002]:    \n",
    "    print(\"epsilon is: \",i)\n",
    "    regressor=SVR(epsilon=i)\n",
    "    y_train1=y_train1.ravel()\n",
    "    regressor.fit(x_train1,y_train1)\n",
    "    y_pred=regressor.predict(x_test1)\n",
    "    y_pred=np.reshape(y_pred,(y_pred.shape[0],1))\n",
    "    y_pred=sc_y.inverse_transform(y_pred)\n",
    "    # mse\n",
    "    print(\"MSE:\", mean_squared_error(y_test, y_pred))\n",
    "\n",
    "    # RMSE\n",
    "    print(\"RMSE:\", np.sqrt(mean_squared_error(y_test, y_pred)))\n",
    "    # r2 score\n",
    "    r2 = r2_score(y_test,y_pred)\n",
    "    print(\"r2 value: \",r2)\n",
    "\n",
    "\n",
    "    # adjusted r2 score\n",
    "    n=y_test.shape[0]\n",
    "    k=x_train.shape[1]\n",
    "    adj_r2_score = 1 - ((1-r2)*(n-1)/(n-k-1))\n",
    "    print(\"adjusted r2 value: \",adj_r2_score)"
   ]
  },
  {
   "cell_type": "code",
   "execution_count": 128,
   "id": "a7499cb4",
   "metadata": {},
   "outputs": [
    {
     "name": "stdout",
     "output_type": "stream",
     "text": [
      "MSE: 0.000445837284032074\n",
      "RMSE: 0.021114859318311217\n",
      "r2 value:  0.977964867246109\n",
      "adjusted r2 value:  0.9769139609147696\n"
     ]
    }
   ],
   "source": [
    "## final \n",
    "regressor=SVR(epsilon=0.001, C=4)\n",
    "y_train1=y_train1.ravel()\n",
    "regressor.fit(x_train1,y_train1)\n",
    "y_pred=regressor.predict(x_test1)\n",
    "y_pred=np.reshape(y_pred,(y_pred.shape[0],1))\n",
    "y_pred=sc_y.inverse_transform(y_pred)\n",
    "\n",
    "# evaluating the model\n",
    "# mse\n",
    "print(\"MSE:\", mean_squared_error(y_test, y_pred))\n",
    "# RMSE\n",
    "print(\"RMSE:\", np.sqrt(mean_squared_error(y_test, y_pred)))\n",
    "# r2 score\n",
    "r2 = r2_score(y_test,y_pred)\n",
    "print(\"r2 value: \",r2)\n",
    "# adjusted r2 score\n",
    "n=y_test.shape[0]\n",
    "k=x_train.shape[1]\n",
    "adj_r2_score = 1 - ((1-r2)*(n-1)/(n-k-1))\n",
    "print(\"adjusted r2 value: \",adj_r2_score)"
   ]
  },
  {
   "cell_type": "code",
   "execution_count": 64,
   "id": "4956e050",
   "metadata": {},
   "outputs": [],
   "source": [
    "def my_kernel(x,y):\n",
    "    print(\"shape of x: \",x.shape,\"shape of y: \",y.shape)\n",
    "    print(\"for x: \",x[0])\n",
    "    print(\"for y: \",y[0])\n",
    "    return (np.dot(x,y.T)*0.05)"
   ]
  },
  {
   "cell_type": "code",
   "execution_count": null,
   "id": "9891c8ef",
   "metadata": {},
   "outputs": [],
   "source": [
    "y_train1=y_train1.ravel()\n",
    "regressor=SVR(kernel=my_kernel)\n",
    "test=regressor.fit(x_train1,y_train1)\n",
    "y_pred=regressor.predict(x_test1)\n",
    "y_pred=np.reshape(y_pred,(y_pred.shape[0],1))\n",
    "y_pred=sc_y.inverse_transform(y_pred)\n",
    "\n",
    "# evaluating the model\n",
    "# mse\n",
    "print(\"MSE:\", mean_squared_error(y_test, y_pred))\n",
    "\n",
    "# RMSE\n",
    "print(\"RMSE:\", np.sqrt(mean_squared_error(y_test, y_pred)))\n",
    "# r2 score\n",
    "r2 = r2_score(y_test,y_pred)\n",
    "print(\"r2 value: \",r2)\n",
    "# adjusted r2 score\n",
    "n=y_test.shape[0]\n",
    "k=x_train.shape[1]\n",
    "adj_r2_score = 1 - ((1-r2)*(n-1)/(n-k-1))\n",
    "print(\"adjusted r2 value: \",adj_r2_score)"
   ]
  },
  {
   "cell_type": "code",
   "execution_count": null,
   "id": "b8068207",
   "metadata": {},
   "outputs": [],
   "source": []
  },
  {
   "cell_type": "code",
   "execution_count": 77,
   "id": "db9a73f4",
   "metadata": {},
   "outputs": [
    {
     "name": "stdout",
     "output_type": "stream",
     "text": [
      "MSE: 0.00023794078033755758\n",
      "RMSE: 0.015425329180849191\n",
      "r2 value:  0.9882399770721614\n",
      "adjusted r2 value:  0.9876791144402183\n"
     ]
    }
   ],
   "source": [
    "# new model\n",
    "\n",
    "def my_kernel(x,y,deg=2):\n",
    "#     print(\"shape of x: \",x.shape,\"shape of y: \",y.shape)\n",
    "#     print(\"for x: \",x[0])\n",
    "#     print(\"for y: \",y[0])\n",
    "    #return np.square(np.dot(x,y.T)+0.1)+np.dot(x,y.T)\n",
    "    return np.power(np.dot(x,y.T),deg) + np.dot(x,y.T)\n",
    "\n",
    "\n",
    "y_train1=y_train1.ravel()\n",
    "regressor=SVR(kernel=my_kernel)\n",
    "regressor.fit(x_train1,y_train1)\n",
    "y_pred=regressor.predict(x_test1)\n",
    "y_pred=np.reshape(y_pred,(y_pred.shape[0],1))\n",
    "y_pred=sc_y.inverse_transform(y_pred)\n",
    "# evaluating the model\n",
    "\n",
    "# mse\n",
    "print(\"MSE:\", mean_squared_error(y_test, y_pred))\n",
    "# RMSE\n",
    "print(\"RMSE:\", np.sqrt(mean_squared_error(y_test, y_pred)))\n",
    "# r2 score\n",
    "r2 = r2_score(y_test,y_pred)\n",
    "print(\"r2 value: \",r2)\n",
    "# adjusted r2 score\n",
    "n=y_test.shape[0]\n",
    "k=x_train.shape[1]\n",
    "adj_r2_score = 1 - ((1-r2)*(n-1)/(n-k-1))\n",
    "print(\"adjusted r2 value: \",adj_r2_score)"
   ]
  },
  {
   "cell_type": "code",
   "execution_count": 75,
   "id": "af4f98ee",
   "metadata": {},
   "outputs": [
    {
     "name": "stdout",
     "output_type": "stream",
     "text": [
      "[[7.74440569]]\n"
     ]
    }
   ],
   "source": [
    "## taking one input for predicting\n",
    "\n",
    "testing=x_test1[500]\n",
    "testing=[testing]\n",
    "y_pred=regressor.predict(testing)\n",
    "y_pred=np.reshape(y_pred,(y_pred.shape[0],1))\n",
    "y_pred=sc_y.inverse_transform(y_pred)\n",
    "print(y_pred)"
   ]
  },
  {
   "cell_type": "code",
   "execution_count": null,
   "id": "8ebaeb53",
   "metadata": {},
   "outputs": [],
   "source": []
  },
  {
   "cell_type": "code",
   "execution_count": 87,
   "id": "44a950b1",
   "metadata": {},
   "outputs": [],
   "source": [
    "weight=cor['pH_25C_total'].drop(\"pH_25C_total\")\n",
    "mat=np.zeros((x_train1.shape[1],x_train1.shape[1]))\n",
    "for i in range(mat.shape[0]):\n",
    "    mat[i][i]=weight[i]"
   ]
  },
  {
   "cell_type": "code",
   "execution_count": 88,
   "id": "de8a7c0a",
   "metadata": {},
   "outputs": [
    {
     "name": "stdout",
     "output_type": "stream",
     "text": [
      "MSE: 0.017469447266332573\n",
      "RMSE: 0.13217203662777\n",
      "r2 value:  0.13658726302701063\n",
      "adjusted r2 value:  0.09540911710983735\n"
     ]
    }
   ],
   "source": [
    "def gaussianKernel(U,V,sigma):\n",
    "    return np.exp((-1/(2*(sigma*sigma)))*np.sum(np.power(np.matmul((U-V),mat),2)))\n",
    "def gram(U,V,sigma=0.1):\n",
    "    G = np.zeros((U.shape[0], V.shape[0]))\n",
    "    for i in range(0,U.shape[0]):\n",
    "        for j in range(0,V.shape[0]):\n",
    "            G[i][j] = gaussianKernel(U[i],V[j],sigma)\n",
    "    return G\n",
    "regressor=SVR(kernel = \"precomputed\")\n",
    "y_train1=y_train1.ravel()\n",
    "regressor.fit(gram(x_train1,x_train1,0.2),y_train1)\n",
    "y_pred=regressor.predict(gram(x_test1,x_train1))\n",
    "y_pred=np.reshape(y_pred,(y_pred.shape[0],1))\n",
    "y_pred=sc_y.inverse_transform(y_pred)\n",
    "\n",
    "\n",
    "# evaluating the model\n",
    "# mse\n",
    "print(\"MSE:\", mean_squared_error(y_test, y_pred))\n",
    "# RMSE\n",
    "print(\"RMSE:\", np.sqrt(mean_squared_error(y_test, y_pred)))\n",
    "# r2 score\n",
    "r2 = r2_score(y_test,y_pred)\n",
    "print(\"r2 value: \",r2)\n",
    "# adjusted r2 score\n",
    "n=y_test.shape[0]\n",
    "k=x_train.shape[1]\n",
    "adj_r2_score = 1 - ((1-r2)*(n-1)/(n-k-1))\n",
    "print(\"adjusted r2 value: \",adj_r2_score)"
   ]
  },
  {
   "cell_type": "code",
   "execution_count": 116,
   "id": "f4c04c68",
   "metadata": {},
   "outputs": [],
   "source": [
    "def Kernel(U,V,sigma):\n",
    "    return np.tanh(np.dot(U,V))\n",
    "def coth_kernel(U,V,sigma=0.1):\n",
    "    G = np.zeros((U.shape[0], V.shape[0]))\n",
    "    for i in range(0,U.shape[0]):\n",
    "        for j in range(0,V.shape[0]):\n",
    "            G[i][j] = Kernel(U[i],V[j],sigma)\n",
    "    return G\n",
    "\n",
    "regressor=SVR(kernel = \"precomputed\")\n",
    "y_train1=y_train1.ravel()\n",
    "regressor.fit(coth_kernel(x_train1,x_train1,0.2),y_train1)\n",
    "y_pred=regressor.predict(coth_kernel(x_test1,x_train1))\n",
    "y_pred=np.reshape(y_pred,(y_pred.shape[0],1))\n",
    "y_pred=sc_y.inverse_transform(y_pred)\n",
    "\n",
    "# evaluating the model\n",
    "# mse\n",
    "print(\"MSE:\", mean_squared_error(y_test, y_pred))\n",
    "# RMSE\n",
    "print(\"RMSE:\", np.sqrt(mean_squared_error(y_test, y_pred)))\n",
    "# r2 score\n",
    "r2 = r2_score(y_test,y_pred)\n",
    "print(\"r2 value: \",r2)\n",
    "# adjusted r2 score\n",
    "n=y_test.shape[0]\n",
    "k=x_train.shape[1]\n",
    "adj_r2_score = 1 - ((1-r2)*(n-1)/(n-k-1))\n",
    "print(\"adjusted r2 value: \",adj_r2_score)"
   ]
  },
  {
   "cell_type": "code",
   "execution_count": null,
   "id": "74f77cab",
   "metadata": {},
   "outputs": [],
   "source": []
  },
  {
   "cell_type": "code",
   "execution_count": null,
   "id": "6070310e",
   "metadata": {},
   "outputs": [],
   "source": []
  },
  {
   "cell_type": "code",
   "execution_count": null,
   "id": "510b9b99",
   "metadata": {},
   "outputs": [],
   "source": []
  }
 ],
 "metadata": {
  "kernelspec": {
   "display_name": "Python 3 (ipykernel)",
   "language": "python",
   "name": "python3"
  },
  "language_info": {
   "codemirror_mode": {
    "name": "ipython",
    "version": 3
   },
   "file_extension": ".py",
   "mimetype": "text/x-python",
   "name": "python",
   "nbconvert_exporter": "python",
   "pygments_lexer": "ipython3",
   "version": "3.9.12"
  }
 },
 "nbformat": 4,
 "nbformat_minor": 5
}
