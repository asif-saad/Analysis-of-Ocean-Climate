{
 "cells": [
  {
   "cell_type": "code",
   "execution_count": 1,
   "id": "83392e4c",
   "metadata": {},
   "outputs": [],
   "source": [
    "import pandas as pd\n",
    "import seaborn as sns\n",
    "import matplotlib.pyplot as plt\n",
    "from sklearn import preprocessing\n",
    "from sklearn.model_selection import train_test_split\n",
    "from sklearn.pipeline import make_pipeline\n",
    "from sklearn.preprocessing import StandardScaler\n",
    "from sklearn.svm import SVC\n",
    "from sklearn.svm import SVR\n",
    "import numpy as np\n",
    "from sklearn.metrics import mean_squared_error\n",
    "from sklearn.metrics import r2_score\n"
   ]
  },
  {
   "cell_type": "code",
   "execution_count": 2,
   "id": "fb65a7ea",
   "metadata": {},
   "outputs": [],
   "source": [
    "x_train=pd.read_csv('x_train.csv')\n",
    "x_test=pd.read_csv('x_test.csv')\n",
    "y_test=pd.read_csv('y_test.csv')\n",
    "y_train=pd.read_csv('y_train.csv')"
   ]
  },
  {
   "cell_type": "code",
   "execution_count": 3,
   "id": "d0571ca1",
   "metadata": {},
   "outputs": [],
   "source": [
    "x_train=x_train.drop(['Unnamed: 0'],axis=1)\n",
    "x_test=x_test.drop(['Unnamed: 0'],axis=1)\n",
    "y_test=y_test.drop(['Unnamed: 0'],axis=1)\n",
    "y_train=y_train.drop(['Unnamed: 0'],axis=1)"
   ]
  },
  {
   "cell_type": "code",
   "execution_count": 13,
   "id": "5973b8e4",
   "metadata": {},
   "outputs": [
    {
     "name": "stderr",
     "output_type": "stream",
     "text": [
      "F:\\source\\Anaconda\\lib\\site-packages\\sklearn\\utils\\validation.py:993: DataConversionWarning: A column-vector y was passed when a 1d array was expected. Please change the shape of y to (n_samples, ), for example using ravel().\n",
      "  y = column_or_1d(y, warn=True)\n"
     ]
    },
    {
     "ename": "NameError",
     "evalue": "name 'sc_y' is not defined",
     "output_type": "error",
     "traceback": [
      "\u001b[1;31m---------------------------------------------------------------------------\u001b[0m",
      "\u001b[1;31mNameError\u001b[0m                                 Traceback (most recent call last)",
      "Input \u001b[1;32mIn [13]\u001b[0m, in \u001b[0;36m<cell line: 7>\u001b[1;34m()\u001b[0m\n\u001b[0;32m      5\u001b[0m y_pred\u001b[38;5;241m=\u001b[39mregressor\u001b[38;5;241m.\u001b[39mpredict(x_test)\n\u001b[0;32m      6\u001b[0m y_pred\u001b[38;5;241m=\u001b[39mnp\u001b[38;5;241m.\u001b[39mreshape(y_pred,(y_pred\u001b[38;5;241m.\u001b[39mshape[\u001b[38;5;241m0\u001b[39m],\u001b[38;5;241m1\u001b[39m))\n\u001b[1;32m----> 7\u001b[0m y_pred\u001b[38;5;241m=\u001b[39m\u001b[43msc_y\u001b[49m\u001b[38;5;241m.\u001b[39minverse_transform(y_pred)\n\u001b[0;32m      8\u001b[0m \u001b[38;5;66;03m# mse\u001b[39;00m\n\u001b[0;32m      9\u001b[0m \u001b[38;5;28mprint\u001b[39m(\u001b[38;5;124m\"\u001b[39m\u001b[38;5;124mMSE:\u001b[39m\u001b[38;5;124m\"\u001b[39m, mean_squared_error(y_test, y_pred))\n",
      "\u001b[1;31mNameError\u001b[0m: name 'sc_y' is not defined"
     ]
    }
   ],
   "source": [
    "# build custom kernel\n",
    "regressor=SVR(kernel='poly',degree=2,coef0=0.4)\n",
    "y_train=y_train.to_numpy()\n",
    "regressor.fit(x_train,y_train)\n",
    "y_pred=regressor.predict(x_test)\n",
    "y_pred=np.reshape(y_pred,(y_pred.shape[0],1))\n",
    "y_pred=sc_y.inverse_transform(y_pred)\n",
    "# mse\n",
    "print(\"MSE:\", mean_squared_error(y_test, y_pred))\n",
    "\n",
    "# RMSE\n",
    "print(\"RMSE:\", np.sqrt(mean_squared_error(y_test, y_pred)))\n",
    "# r2 score\n",
    "r2 = r2_score(y_test,y_pred)\n",
    "print(\"r2 value: \",r2)\n",
    "\n",
    "\n",
    "# adjusted r2 score\n",
    "n=y_test.shape[0]\n",
    "k=x_train.shape[1]\n",
    "adj_r2_score = 1 - ((1-r2)*(n-1)/(n-k-1))\n",
    "print(\"adjusted r2 value: \",adj_r2_score)"
   ]
  },
  {
   "cell_type": "code",
   "execution_count": null,
   "id": "7a3d822d",
   "metadata": {},
   "outputs": [],
   "source": []
  },
  {
   "cell_type": "code",
   "execution_count": null,
   "id": "560abe48",
   "metadata": {},
   "outputs": [],
   "source": []
  },
  {
   "cell_type": "code",
   "execution_count": null,
   "id": "3ee0f39f",
   "metadata": {},
   "outputs": [],
   "source": []
  },
  {
   "cell_type": "code",
   "execution_count": null,
   "id": "ae2bcb91",
   "metadata": {},
   "outputs": [],
   "source": []
  },
  {
   "cell_type": "code",
   "execution_count": null,
   "id": "a81ca80a",
   "metadata": {},
   "outputs": [],
   "source": []
  },
  {
   "cell_type": "code",
   "execution_count": null,
   "id": "f89b2121",
   "metadata": {},
   "outputs": [],
   "source": []
  }
 ],
 "metadata": {
  "kernelspec": {
   "display_name": "Python 3 (ipykernel)",
   "language": "python",
   "name": "python3"
  },
  "language_info": {
   "codemirror_mode": {
    "name": "ipython",
    "version": 3
   },
   "file_extension": ".py",
   "mimetype": "text/x-python",
   "name": "python",
   "nbconvert_exporter": "python",
   "pygments_lexer": "ipython3",
   "version": "3.9.12"
  }
 },
 "nbformat": 4,
 "nbformat_minor": 5
}
