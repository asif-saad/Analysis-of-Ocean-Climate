{
 "cells": [
  {
   "cell_type": "code",
   "execution_count": 1,
   "id": "3c475fd9",
   "metadata": {},
   "outputs": [],
   "source": [
    "import pandas as pd"
   ]
  },
  {
   "cell_type": "code",
   "execution_count": 11,
   "id": "1a3f4b04",
   "metadata": {},
   "outputs": [],
   "source": [
    "array = ['1901378QC.csv', '1901379QC.csv','1902303QC.csv','1902304QC.csv','1902380QC.csv']\n",
    "sizeArray= []"
   ]
  },
  {
   "cell_type": "code",
   "execution_count": 12,
   "id": "f0232473",
   "metadata": {},
   "outputs": [
    {
     "name": "stderr",
     "output_type": "stream",
     "text": [
      "C:\\Users\\asifs\\AppData\\Local\\Temp\\ipykernel_8316\\984934243.py:2: DtypeWarning: Columns (6,7,9,11,13,15,17,19,21,23,25,27,29,31,33,35,37,39,41,43) have mixed types. Specify dtype option on import or set low_memory=False.\n",
      "  data=pd.read_csv(i)\n",
      "C:\\Users\\asifs\\AppData\\Local\\Temp\\ipykernel_8316\\984934243.py:2: DtypeWarning: Columns (6,7,9,11,13,15,17,19,21,23,25,27,29,31,33,35,37,39,41,43) have mixed types. Specify dtype option on import or set low_memory=False.\n",
      "  data=pd.read_csv(i)\n",
      "C:\\Users\\asifs\\AppData\\Local\\Temp\\ipykernel_8316\\984934243.py:2: DtypeWarning: Columns (6,7,9,11,13,15,17,19,21,23,25,27,29,31,33,35,37,39,41,43) have mixed types. Specify dtype option on import or set low_memory=False.\n",
      "  data=pd.read_csv(i)\n"
     ]
    }
   ],
   "source": [
    "for i in array:\n",
    "    data=pd.read_csv(i)\n",
    "    sizeArray.append(data.shape[1])\n",
    "    "
   ]
  },
  {
   "cell_type": "code",
   "execution_count": null,
   "id": "9b474511",
   "metadata": {},
   "outputs": [],
   "source": []
  },
  {
   "cell_type": "code",
   "execution_count": null,
   "id": "c3b61316",
   "metadata": {},
   "outputs": [],
   "source": []
  },
  {
   "cell_type": "code",
   "execution_count": null,
   "id": "b9cb4a9f",
   "metadata": {},
   "outputs": [],
   "source": []
  },
  {
   "cell_type": "code",
   "execution_count": null,
   "id": "fa05dc56",
   "metadata": {},
   "outputs": [],
   "source": []
  },
  {
   "cell_type": "code",
   "execution_count": null,
   "id": "b04ea18c",
   "metadata": {},
   "outputs": [],
   "source": []
  },
  {
   "cell_type": "code",
   "execution_count": null,
   "id": "285c4b92",
   "metadata": {},
   "outputs": [],
   "source": []
  },
  {
   "cell_type": "code",
   "execution_count": null,
   "id": "9862fe36",
   "metadata": {},
   "outputs": [],
   "source": []
  },
  {
   "cell_type": "code",
   "execution_count": null,
   "id": "87e081cb",
   "metadata": {},
   "outputs": [],
   "source": []
  },
  {
   "cell_type": "code",
   "execution_count": null,
   "id": "11a1d1af",
   "metadata": {},
   "outputs": [],
   "source": []
  },
  {
   "cell_type": "code",
   "execution_count": null,
   "id": "1e9b5a65",
   "metadata": {},
   "outputs": [],
   "source": []
  },
  {
   "cell_type": "code",
   "execution_count": null,
   "id": "8f73bc0e",
   "metadata": {},
   "outputs": [],
   "source": []
  },
  {
   "cell_type": "code",
   "execution_count": null,
   "id": "82fcf244",
   "metadata": {},
   "outputs": [],
   "source": []
  },
  {
   "cell_type": "code",
   "execution_count": null,
   "id": "6b019d03",
   "metadata": {},
   "outputs": [],
   "source": []
  },
  {
   "cell_type": "code",
   "execution_count": null,
   "id": "909c2754",
   "metadata": {},
   "outputs": [],
   "source": []
  },
  {
   "cell_type": "code",
   "execution_count": null,
   "id": "3fd23e5a",
   "metadata": {},
   "outputs": [],
   "source": []
  },
  {
   "cell_type": "code",
   "execution_count": null,
   "id": "fb9a6156",
   "metadata": {},
   "outputs": [],
   "source": []
  },
  {
   "cell_type": "code",
   "execution_count": null,
   "id": "d30662c6",
   "metadata": {},
   "outputs": [],
   "source": []
  },
  {
   "cell_type": "code",
   "execution_count": null,
   "id": "96167e16",
   "metadata": {},
   "outputs": [],
   "source": []
  }
 ],
 "metadata": {
  "kernelspec": {
   "display_name": "Python 3 (ipykernel)",
   "language": "python",
   "name": "python3"
  },
  "language_info": {
   "codemirror_mode": {
    "name": "ipython",
    "version": 3
   },
   "file_extension": ".py",
   "mimetype": "text/x-python",
   "name": "python",
   "nbconvert_exporter": "python",
   "pygments_lexer": "ipython3",
   "version": "3.9.12"
  }
 },
 "nbformat": 4,
 "nbformat_minor": 5
}
